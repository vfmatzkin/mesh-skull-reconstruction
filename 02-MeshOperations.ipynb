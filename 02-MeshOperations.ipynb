{
 "cells": [
  {
   "cell_type": "code",
   "execution_count": 1,
   "outputs": [],
   "source": [
    "%reload_ext autoreload\n",
    "%autoreload 2"
   ],
   "metadata": {
    "collapsed": false
   }
  },
  {
   "cell_type": "code",
   "execution_count": 1,
   "outputs": [],
   "source": [
    "import os\n",
    "\n",
    "import pymesh\n",
    "from headctools.preprocessing import utils\n",
    "from headctools.tools.offline_augmentation import simulate_and_save\n",
    "\n",
    "from src.deformetrica import estimate_registration\n",
    "\n",
    "owrt = False  # Overwrite flag\n",
    "\n",
    "# To check by the user\n",
    "raw_images_path = os.path.expanduser(\n",
    "    '~/Code/datasets/cq500/converted/selected/test'\n",
    ")\n",
    "fixed_image_path = 'CQ500-CT-312_CT PRE CONTRAST THIN.nii.gz'\n",
    "\n",
    "# To be set up automatically\n",
    "preprocessed_images_path = os.path.join(raw_images_path,\n",
    "                                        'preprocessed_ct_to_skull')\n",
    "simulated_cran_path = os.path.join(preprocessed_images_path, 'cran')  # default\n",
    "cran_imgs_only = None  # List of files with simulated craniectomy\n",
    "registered_meshes_folder = os.path.join(\n",
    "    preprocessed_images_path, f'reg_{os.path.split(fixed_image_path)}'\n",
    ")\n",
    "difference_meshes = os.path.join(preprocessed_images_path, 'diff')"
   ],
   "metadata": {
    "collapsed": false
   }
  },
  {
   "cell_type": "markdown",
   "source": [
    "## Image with defect registration test\n",
    "\n",
    "Test-time mesh registration simulation:\n",
    "\n",
    "1.  Grab an image without defect.\n",
    "2.  Mesh and register the template to the skull.\n",
    "3.  Simulate a craniectomy.\n",
    "4.  Mesh the skull with the defect.\n",
    "5.  Register (2) to (4).\n",
    "\n",
    "### Simulate defect\n",
    "Generate 1 simulation per img"
   ],
   "metadata": {
    "collapsed": false
   }
  },
  {
   "cell_type": "code",
   "execution_count": 2,
   "outputs": [
    {
     "name": "stdout",
     "output_type": "stream",
     "text": [
      "Folder: /home/franco/Code/datasets/cq500/converted/selected/test/preprocessed_ct_to_skull\n",
      "Input: /home/franco/Code/datasets/cq500/converted/selected/test/preprocessed_ct_to_skull/CQ500-CT-312_CT PRE CONTRAST THIN.nii.gz.\n",
      "  File 0 already exists. Skipping.\n",
      "Input: /home/franco/Code/datasets/cq500/converted/selected/test/preprocessed_ct_to_skull/CQ500-CT-405_CT Thin Plain.nii.gz.\n",
      "  File 0 already exists. Skipping.\n"
     ]
    }
   ],
   "source": [
    "simulate_and_save(preprocessed_images_path, out_folder=simulated_cran_path,\n",
    "                  overwrite=owrt)\n",
    "cran_imgs_only = [\n",
    "    os.path.join(simulated_cran_path, f)\n",
    "    for f in os.listdir(simulated_cran_path) if f.endswith('0_sim.nii.gz')\n",
    "]"
   ],
   "metadata": {
    "collapsed": false
   }
  },
  {
   "cell_type": "markdown",
   "source": [
    "### Convert to stl"
   ],
   "metadata": {
    "collapsed": false
   }
  },
  {
   "cell_type": "code",
   "execution_count": 3,
   "outputs": [
    {
     "name": "stdout",
     "output_type": "stream",
     "text": [
      "    File /home/franco/Code/datasets/cq500/converted/selected/test/preprocessed_ct_to_skull/CQ500-CT-312_CT PRE CONTRAST THIN.stl already exists. Skipping...\n",
      "    File /home/franco/Code/datasets/cq500/converted/selected/test/preprocessed_ct_to_skull/CQ500-CT-405_CT Thin Plain.stl already exists. Skipping...\n",
      "    File /home/franco/Code/datasets/cq500/converted/selected/test/preprocessed_ct_to_skull/cran/CQ500-CT-312_CT PRE CONTRAST THIN0_sim.stl already exists. Skipping...\n",
      "    File /home/franco/Code/datasets/cq500/converted/selected/test/preprocessed_ct_to_skull/cran/CQ500-CT-405_CT Thin Plain0_sim.stl already exists. Skipping...\n"
     ]
    }
   ],
   "source": [
    "utils.nii_to_stl_marching_cubes(preprocessed_images_path,\n",
    "                                preprocessed_images_path, owrt)\n",
    "cran_stl_files = utils.nii_to_stl_marching_cubes(cran_imgs_only,\n",
    "                                                 simulated_cran_path, owrt)"
   ],
   "metadata": {
    "collapsed": false
   }
  },
  {
   "cell_type": "markdown",
   "source": [
    "### Decimate meshes\n",
    "Reduce the amount of points in each mesh to a 1 percent."
   ],
   "metadata": {
    "collapsed": false
   }
  },
  {
   "cell_type": "code",
   "execution_count": 4,
   "outputs": [
    {
     "name": "stdout",
     "output_type": "stream",
     "text": [
      "Decimating meshes...\n",
      "  Input folder: /home/franco/Code/datasets/cq500/converted/selected/test/preprocessed_ct_to_skull\n",
      "  Found 2 meshes\n",
      "    [1/2] Input mesh: CQ500-CT-312_CT PRE CONTRAST THIN.stl\n",
      "    Mesh already exists, skipping...\n",
      "    [2/2] Input mesh: CQ500-CT-405_CT Thin Plain.stl\n",
      "    Mesh already exists, skipping...\n",
      "Decimating meshes...\n",
      "  Input folder: /home/franco/Code/datasets/cq500/converted/selected/test/preprocessed_ct_to_skull/cran\n",
      "  Found 2 meshes\n",
      "    [1/2] Input mesh: CQ500-CT-312_CT PRE CONTRAST THIN0_sim.stl\n",
      "    Mesh already exists, skipping...\n",
      "    [2/2] Input mesh: CQ500-CT-405_CT Thin Plain0_sim.stl\n",
      "    Mesh already exists, skipping...\n"
     ]
    }
   ],
   "source": [
    "decimate_factor = 0.01\n",
    "\n",
    "decimated_meshes_full = utils.decimate_meshes(preprocessed_images_path,\n",
    "                                              decimate_factor, owrt)\n",
    "decimated_meshes_def = utils.decimate_meshes(simulated_cran_path,\n",
    "                                             decimate_factor, owrt)"
   ],
   "metadata": {
    "collapsed": false
   }
  },
  {
   "cell_type": "markdown",
   "source": [
    "### Register atlas to simulated defect images\n",
    "Here the template image (the subject 312 with the full skull) will be registered to every skull with a defect.\n",
    "For each patient with a defect, a folder will be created with two outputs:\n",
    " 1) DeterministicAtlas__EstimatedParameters__Template_skull.vtk\n",
    " 2) DeterministicAtlas__Reconstruction__skull__IMAGE_NAME.vtk\n",
    "\n",
    "(1) Aligns better with the postoperative image if it's the same subject image, otherwise (2) will be the best adaptation of the template to this image."
   ],
   "metadata": {
    "collapsed": false
   }
  },
  {
   "cell_type": "code",
   "execution_count": 5,
   "outputs": [
    {
     "name": "stdout",
     "output_type": "stream",
     "text": [
      "Output path: /home/franco/Code/datasets/cq500/converted/selected/test/preprocessed_ct_to_skull/cran/reg_CQ500-CT-312_CT PRE CONTRAST THIN0_sim_decimated_1perc\n",
      "  Output folder already exists and contains files. Please delete the folder or set the overwrite flag.\n",
      "Output path: /home/franco/Code/datasets/cq500/converted/selected/test/preprocessed_ct_to_skull/cran/reg_CQ500-CT-405_CT Thin Plain0_sim_decimated_1perc\n",
      "  Output folder already exists and contains files. Please delete the folder or set the overwrite flag.\n"
     ]
    }
   ],
   "source": [
    "cran_paths = [\n",
    "    os.path.join(simulated_cran_path, f)\n",
    "    for f in os.listdir(simulated_cran_path) if f.endswith('.vtk')\n",
    "]\n",
    "template_path = decimated_meshes_full[\n",
    "    0]  # Preprocessed + dmtd complete skull (312)\n",
    "\n",
    "# Fixed images will be all the patients with craniectomy. The template will\n",
    "# adapt to each of these meshes. A folder for each patient will be saved.\n",
    "paths_reg_deformetrica = []\n",
    "paths_vtk_deformetrica = []\n",
    "for fixed_path in cran_paths:\n",
    "    out_path = os.path.join(simulated_cran_path, 'reg_' +\n",
    "                            os.path.splitext(os.path.split(fixed_path)[1])[0]\n",
    "                            )\n",
    "    paths_reg_deformetrica.append(out_path)\n",
    "    estimate_registration(template_path, [fixed_path], out_path,\n",
    "                          overwrite=owrt)\n",
    "    rec_file = [\n",
    "        f for f in os.listdir(out_path)\n",
    "        if f.startswith('DeterministicAtlas__Reconstruction__skull__subject_')\n",
    "    ][0]\n",
    "    defrm_file = os.path.join(out_path, rec_file)\n",
    "    paths_vtk_deformetrica.append(defrm_file)"
   ],
   "metadata": {
    "collapsed": false
   }
  },
  {
   "cell_type": "code",
   "execution_count": 6,
   "outputs": [
    {
     "data": {
      "text/plain": "['/home/franco/Code/datasets/cq500/converted/selected/test/preprocessed_ct_to_skull/cran/reg_CQ500-CT-312_CT PRE CONTRAST THIN0_sim_decimated_1perc/DeterministicAtlas__Reconstruction__skull__subject_CQ500-CT-312_CT PRE CONTRAST THIN0_sim_decimated_1perc.stl',\n '/home/franco/Code/datasets/cq500/converted/selected/test/preprocessed_ct_to_skull/cran/reg_CQ500-CT-405_CT Thin Plain0_sim_decimated_1perc/DeterministicAtlas__Reconstruction__skull__subject_CQ500-CT-405_CT Thin Plain0_sim_decimated_1perc.vtk']"
     },
     "execution_count": 6,
     "metadata": {},
     "output_type": "execute_result"
    }
   ],
   "source": [
    "paths_vtk_deformetrica"
   ],
   "metadata": {
    "collapsed": false
   }
  },
  {
   "cell_type": "markdown",
   "source": [
    "### Convert to stl\n",
    "Needed for pymesh"
   ],
   "metadata": {
    "collapsed": false
   }
  },
  {
   "cell_type": "code",
   "execution_count": 7,
   "outputs": [
    {
     "name": "stdout",
     "output_type": "stream",
     "text": [
      "Creating /home/franco/Code/datasets/cq500/converted/selected/test/preprocessed_ct_to_skull/cran/reg_CQ500-CT-312_CT PRE CONTRAST THIN0_sim_decimated_1perc/DeterministicAtlas__Reconstruction__skull__subject_CQ500-CT-312_CT PRE CONTRAST THIN0_sim_decimated_1perc.stl\n",
      "Creating /home/franco/Code/datasets/cq500/converted/selected/test/preprocessed_ct_to_skull/cran/reg_CQ500-CT-405_CT Thin Plain0_sim_decimated_1perc/DeterministicAtlas__Reconstruction__skull__subject_CQ500-CT-405_CT Thin Plain0_sim_decimated_1perc.stl\n"
     ]
    },
    {
     "name": "stderr",
     "output_type": "stream",
     "text": [
      "\u001B[0m\u001B[31m2022-09-26 15:59:57.483 (  16.283s) [        896BD180]      vtkDataReader.cxx:567    ERR| vtkGenericDataObjectReader (0x55a5de4b3840): Unrecognized file type: solid Visualization Toolkit generated SLA File for file: /home/franco/Code/datasets/cq500/converted/selected/test/preprocessed_ct_to_skull/cran/reg_CQ500-CT-312_CT PRE CONTRAST THIN0_sim_decimated_1perc/DeterministicAtlas__Reconstruction__skull__subject_CQ500-CT-312_CT PRE CONTRAST THIN0_sim_decimated_1perc.stl\u001B[0m\n",
      "\u001B[0m\u001B[31m2022-09-26 15:59:57.483 (  16.283s) [        896BD180]      vtkDataReader.cxx:567    ERR| vtkGenericDataObjectReader (0x55a5de4b3840): Unrecognized file type: solid Visualization Toolkit generated SLA File for file: /home/franco/Code/datasets/cq500/converted/selected/test/preprocessed_ct_to_skull/cran/reg_CQ500-CT-312_CT PRE CONTRAST THIN0_sim_decimated_1perc/DeterministicAtlas__Reconstruction__skull__subject_CQ500-CT-312_CT PRE CONTRAST THIN0_sim_decimated_1perc.stl\u001B[0m\n",
      "\u001B[0m\u001B[31m2022-09-26 15:59:57.483 (  16.283s) [        896BD180]      vtkDataReader.cxx:567    ERR| vtkGenericDataObjectReader (0x55a5de4b3840): Unrecognized file type: solid Visualization Toolkit generated SLA File for file: /home/franco/Code/datasets/cq500/converted/selected/test/preprocessed_ct_to_skull/cran/reg_CQ500-CT-312_CT PRE CONTRAST THIN0_sim_decimated_1perc/DeterministicAtlas__Reconstruction__skull__subject_CQ500-CT-312_CT PRE CONTRAST THIN0_sim_decimated_1perc.stl\u001B[0m\n",
      "\u001B[0m\u001B[31m2022-09-26 15:59:57.483 (  16.283s) [        896BD180]vtkGenericDataObjectRea:356    ERR| vtkGenericDataObjectReader (0x55a5de4b3840): Could not read file /home/franco/Code/datasets/cq500/converted/selected/test/preprocessed_ct_to_skull/cran/reg_CQ500-CT-312_CT PRE CONTRAST THIN0_sim_decimated_1perc/DeterministicAtlas__Reconstruction__skull__subject_CQ500-CT-312_CT PRE CONTRAST THIN0_sim_decimated_1perc.stl\u001B[0m\n",
      "\u001B[0m\u001B[31m2022-09-26 15:59:57.483 (  16.283s) [        896BD180]       vtkExecutive.cxx:752    ERR| vtkCompositeDataPipeline (0x55a5df0872d0): Algorithm vtkGenericDataObjectReader(0x55a5de4b3840) returned failure for request: vtkInformation (0x55a5dec14e10)\n",
      "  Debug: Off\n",
      "  Modified Time: 28241\n",
      "  Reference Count: 1\n",
      "  Registered Events: (none)\n",
      "  Request: REQUEST_DATA\n",
      "  FROM_OUTPUT_PORT: 0\n",
      "  ALGORITHM_AFTER_FORWARD: 1\n",
      "  FORWARD_DIRECTION: 0\n",
      "\n",
      "\u001B[0m\n",
      "\u001B[0m\u001B[31m2022-09-26 15:59:57.483 (  16.283s) [        896BD180]vtkDemandDrivenPipeline:756    ERR| vtkCompositeDataPipeline (0x55a5dee3c0b0): Input for connection index 0 on input port index 0 for algorithm vtkSTLWriter(0x55a5de34b2b0) is of type vtkDataObject, but a vtkPolyData is required.\u001B[0m\n"
     ]
    }
   ],
   "source": [
    "paths_stl_deformetrica = utils.vtk_to_stl(paths_vtk_deformetrica)"
   ],
   "metadata": {
    "collapsed": false
   }
  },
  {
   "cell_type": "markdown",
   "source": [
    "### Difference\n",
    "Difference of the transformed template mesh with the craniectomy mesh"
   ],
   "metadata": {
    "collapsed": false
   }
  },
  {
   "cell_type": "code",
   "execution_count": 21,
   "outputs": [],
   "source": [
    "# Join both lists\n",
    "meshes = zip(paths_stl_deformetrica, cran_stl_files)"
   ],
   "metadata": {
    "collapsed": false
   }
  },
  {
   "cell_type": "code",
   "execution_count": 20,
   "outputs": [
    {
     "data": {
      "text/plain": "[]"
     },
     "execution_count": 20,
     "metadata": {},
     "output_type": "execute_result"
    }
   ],
   "source": [
    "list(meshes)"
   ],
   "metadata": {
    "collapsed": false
   }
  },
  {
   "cell_type": "code",
   "execution_count": 19,
   "outputs": [
    {
     "name": "stderr",
     "output_type": "stream",
     "text": [
      "Input mesh is not PWN!\n"
     ]
    },
    {
     "name": "stdout",
     "output_type": "stream",
     "text": [
      "saved /home/franco/Code/datasets/cq500/converted/selected/test/preprocessed_ct_to_skull/diff/312.stl\n"
     ]
    },
    {
     "name": "stderr",
     "output_type": "stream",
     "text": [
      "Input mesh is not PWN!\n"
     ]
    },
    {
     "name": "stdout",
     "output_type": "stream",
     "text": [
      "saved /home/franco/Code/datasets/cq500/converted/selected/test/preprocessed_ct_to_skull/diff/405.stl\n"
     ]
    }
   ],
   "source": [
    "os.makedirs(difference_meshes, exist_ok=True)\n",
    "\n",
    "for full, inc in meshes:\n",
    "    out_path = os.path.join(\n",
    "        difference_meshes,\n",
    "        os.path.split(inc)[1].split('_')[0].split('-')[-1] + '.stl'\n",
    "    )\n",
    "    full_mesh = pymesh.load_mesh(full)\n",
    "    incomplete_mesh = pymesh.load_mesh(inc)\n",
    "    output_mesh = pymesh.boolean(full_mesh, incomplete_mesh,\n",
    "                                 operation=\"symmetric_difference\")\n",
    "    pymesh.save_mesh(out_path, output_mesh)\n",
    "    print(f'saved {out_path}')"
   ],
   "metadata": {
    "collapsed": false
   }
  }
 ],
 "metadata": {
  "kernelspec": {
   "display_name": "Python 3 (ipykernel)",
   "language": "python",
   "name": "python3"
  },
  "language_info": {
   "codemirror_mode": {
    "name": "ipython",
    "version": 3
   },
   "file_extension": ".py",
   "mimetype": "text/x-python",
   "name": "python",
   "nbconvert_exporter": "python",
   "pygments_lexer": "ipython3",
   "version": "3.8.13"
  },
  "vscode": {
   "interpreter": {
    "hash": "159c917228f05416d9b819fe32ed20dc8363f68fb18cb83ee7ae4737bd8f0b32"
   }
  }
 },
 "nbformat": 4,
 "nbformat_minor": 4
}
