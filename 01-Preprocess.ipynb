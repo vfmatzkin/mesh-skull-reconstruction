{
 "cells": [
  {
   "cell_type": "markdown",
   "source": [
    "# Preprocess the data\n",
    "A mesh is generated for each image to be used afterwards."
   ],
   "metadata": {
    "collapsed": false,
    "pycharm": {
     "name": "#%% md\n"
    }
   }
  },
  {
   "cell_type": "code",
   "execution_count": 1,
   "outputs": [
    {
     "ename": "KeyboardInterrupt",
     "evalue": "",
     "output_type": "error",
     "traceback": [
      "\u001B[0;31m---------------------------------------------------------------------------\u001B[0m",
      "\u001B[0;31mKeyboardInterrupt\u001B[0m                         Traceback (most recent call last)",
      "Input \u001B[0;32mIn [1]\u001B[0m, in \u001B[0;36m<cell line: 14>\u001B[0;34m()\u001B[0m\n\u001B[1;32m      8\u001B[0m \u001B[38;5;66;03m# Registered images will be saved in a sub folder with the name of the fixed image\u001B[39;00m\n\u001B[1;32m     10\u001B[0m params \u001B[38;5;241m=\u001B[39m {\n\u001B[1;32m     11\u001B[0m     \u001B[38;5;124m'\u001B[39m\u001B[38;5;124mreg_atlas_path\u001B[39m\u001B[38;5;124m'\u001B[39m: fixed_img\n\u001B[1;32m     12\u001B[0m }\n\u001B[0;32m---> 14\u001B[0m \u001B[43mct_skull\u001B[49m\u001B[43m(\u001B[49m\u001B[43mimgs\u001B[49m\u001B[43m,\u001B[49m\u001B[43m \u001B[49m\u001B[43mparams\u001B[49m\u001B[43m \u001B[49m\u001B[38;5;241;43m=\u001B[39;49m\u001B[43m \u001B[49m\u001B[43mparams\u001B[49m\u001B[43m)\u001B[49m\n",
      "File \u001B[0;32m~/Code/headctools/headctools/preprocessing/__init__.py:15\u001B[0m, in \u001B[0;36mct_skull\u001B[0;34m(input_path, output_path, params)\u001B[0m\n\u001B[1;32m      6\u001B[0m \u001B[38;5;28;01mdef\u001B[39;00m \u001B[38;5;21mct_skull\u001B[39m(input_path: \u001B[38;5;28mstr\u001B[39m, output_path: \u001B[38;5;28mstr\u001B[39m \u001B[38;5;241m=\u001B[39m \u001B[38;5;28;01mNone\u001B[39;00m,\n\u001B[1;32m      7\u001B[0m              params: \u001B[38;5;28mdict\u001B[39m \u001B[38;5;241m=\u001B[39m \u001B[38;5;28;01mNone\u001B[39;00m):\n\u001B[1;32m      8\u001B[0m     \u001B[38;5;124;03m\"\"\" CT -> skull preprocessing\u001B[39;00m\n\u001B[1;32m      9\u001B[0m \n\u001B[1;32m     10\u001B[0m \u001B[38;5;124;03m    :param input_path: Input folder containing the CT images.\u001B[39;00m\n\u001B[0;32m   (...)\u001B[0m\n\u001B[1;32m     13\u001B[0m \u001B[38;5;124;03m    :return:\u001B[39;00m\n\u001B[1;32m     14\u001B[0m \u001B[38;5;124;03m    \"\"\"\u001B[39;00m\n\u001B[0;32m---> 15\u001B[0m     preprocessor \u001B[38;5;241m=\u001B[39m \u001B[43mPreprocessor\u001B[49m\u001B[43m(\u001B[49m\u001B[43minput_path\u001B[49m\u001B[43m,\u001B[49m\u001B[43m \u001B[49m\u001B[43moutput_path\u001B[49m\u001B[43m,\u001B[49m\u001B[43m \u001B[49m\u001B[38;5;124;43m'\u001B[39;49m\u001B[38;5;124;43mct_to_skull\u001B[39;49m\u001B[38;5;124;43m'\u001B[39;49m\u001B[43m,\u001B[49m\u001B[43m \u001B[49m\u001B[43mparams\u001B[49m\u001B[43m)\u001B[49m\n\u001B[1;32m     16\u001B[0m     preprocessor\u001B[38;5;241m.\u001B[39mrun()\n\u001B[1;32m     17\u001B[0m     \u001B[38;5;28;01mreturn\u001B[39;00m preprocessor\u001B[38;5;241m.\u001B[39msave_path\n",
      "File \u001B[0;32m~/Code/headctools/headctools/preprocessing/Preprocessor.py:39\u001B[0m, in \u001B[0;36mPreprocessor.__init__\u001B[0;34m(self, input_path, save_path, preset, file_ids, params)\u001B[0m\n\u001B[1;32m     36\u001B[0m \u001B[38;5;28mself\u001B[39m\u001B[38;5;241m.\u001B[39minput_path \u001B[38;5;241m=\u001B[39m input_path\n\u001B[1;32m     37\u001B[0m \u001B[38;5;28mself\u001B[39m\u001B[38;5;241m.\u001B[39minput_folder \u001B[38;5;241m=\u001B[39m input_path \u001B[38;5;28;01mif\u001B[39;00m os\u001B[38;5;241m.\u001B[39mpath\u001B[38;5;241m.\u001B[39misdir(input_path) \u001B[38;5;28;01melse\u001B[39;00m \\\n\u001B[1;32m     38\u001B[0m     os\u001B[38;5;241m.\u001B[39mpath\u001B[38;5;241m.\u001B[39mdirname(input_path)\n\u001B[0;32m---> 39\u001B[0m \u001B[38;5;28mself\u001B[39m\u001B[38;5;241m.\u001B[39mfiles \u001B[38;5;241m=\u001B[39m \u001B[43mget_niigz_imgs\u001B[49m\u001B[43m(\u001B[49m\u001B[43minput_path\u001B[49m\u001B[43m,\u001B[49m\u001B[43m \u001B[49m\u001B[43mfile_ids\u001B[49m\u001B[43m)\u001B[49m\n\u001B[1;32m     40\u001B[0m \u001B[38;5;28mself\u001B[39m\u001B[38;5;241m.\u001B[39mpreset \u001B[38;5;241m=\u001B[39m preset\n\u001B[1;32m     41\u001B[0m \u001B[38;5;28mself\u001B[39m\u001B[38;5;241m.\u001B[39mparams \u001B[38;5;241m=\u001B[39m {}\n",
      "File \u001B[0;32m~/Code/headctools/headctools/preprocessing/utils.py:48\u001B[0m, in \u001B[0;36mget_niigz_imgs\u001B[0;34m(path, file_ids)\u001B[0m\n\u001B[1;32m     46\u001B[0m \u001B[38;5;28;01mwhile\u001B[39;00m list_not_empty:\n\u001B[1;32m     47\u001B[0m     path \u001B[38;5;241m=\u001B[39m paths[\u001B[38;5;241m0\u001B[39m]\n\u001B[0;32m---> 48\u001B[0m     f_name \u001B[38;5;241m=\u001B[39m \u001B[43mos\u001B[49m\u001B[38;5;241m.\u001B[39mpath\u001B[38;5;241m.\u001B[39msplit(path)[\u001B[38;5;241m1\u001B[39m]\n\u001B[1;32m     49\u001B[0m     \u001B[38;5;28;01mfor\u001B[39;00m key, value \u001B[38;5;129;01min\u001B[39;00m file_ids\u001B[38;5;241m.\u001B[39mitems():  \u001B[38;5;66;03m# For each type of image\u001B[39;00m\n\u001B[1;32m     50\u001B[0m         \u001B[38;5;28;01mif\u001B[39;00m value \u001B[38;5;129;01min\u001B[39;00m f_name:  \u001B[38;5;66;03m# Found a valid ID in the file name\u001B[39;00m\n",
      "\u001B[0;31mKeyboardInterrupt\u001B[0m: "
     ]
    }
   ],
   "source": [
    "import os\n",
    "from os.path import expanduser as eu\n",
    "from headctools.registration import register_file_folder\n",
    "from headctools.preprocessing import ct_skull\n",
    "\n",
    "imgs = eu('~/Code/datasets/cq500/converted/selected/')\n",
    "fixed_img = os.path.join(imgs, 'CQ500-CT-312_CT PRE CONTRAST THIN.nii.gz')\n",
    "# Registered images will be saved in a sub folder with the name of the fixed image\n",
    "\n",
    "params = {\n",
    "    'reg_atlas_path': fixed_img\n",
    "}\n",
    "\n",
    "ct_skull(imgs, params = params)"
   ],
   "metadata": {
    "collapsed": false,
    "pycharm": {
     "name": "#%%\n"
    }
   }
  }
 ],
 "metadata": {
  "kernelspec": {
   "display_name": "Python 3",
   "language": "python",
   "name": "python3"
  },
  "language_info": {
   "codemirror_mode": {
    "name": "ipython",
    "version": 2
   },
   "file_extension": ".py",
   "mimetype": "text/x-python",
   "name": "python",
   "nbconvert_exporter": "python",
   "pygments_lexer": "ipython2",
   "version": "2.7.6"
  }
 },
 "nbformat": 4,
 "nbformat_minor": 0
}