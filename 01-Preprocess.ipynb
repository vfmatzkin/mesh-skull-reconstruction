{
 "cells": [
  {
   "cell_type": "markdown",
   "metadata": {
    "collapsed": false,
    "pycharm": {
     "name": "#%% md\n"
    }
   },
   "source": [
    "# Preprocess the data"
   ]
  },
  {
   "cell_type": "markdown",
   "metadata": {
    "collapsed": false,
    "pycharm": {
     "name": "#%% md\n"
    }
   },
   "source": [
    "## Rigid registration and skull extraction"
   ]
  },
  {
   "cell_type": "code",
   "execution_count": 3,
   "metadata": {
    "collapsed": false,
    "pycharm": {
     "name": "#%%\n"
    }
   },
   "outputs": [],
   "source": [
    "import os\n",
    "from os.path import expanduser as eu\n",
    "from headctools.registration import register_file_folder\n",
    "from headctools.preprocessing import ct_skull"
   ]
  },
  {
   "cell_type": "code",
   "execution_count": null,
   "metadata": {
    "pycharm": {
     "name": "#%%\n"
    }
   },
   "outputs": [],
   "source": [
    "imgs = eu('~/Code/datasets/cq500/converted/selected/')\n",
    "fixed_img = os.path.join(imgs, 'CQ500-CT-312_CT PRE CONTRAST THIN.nii.gz')\n",
    "# Registered images will be saved in a sub folder with the name of the fixed image\n",
    "\n",
    "params = {\n",
    "    'reg_atlas_path': fixed_img\n",
    "}\n",
    "\n",
    "ct_skull(imgs, params = params)"
   ]
  },
  {
   "cell_type": "markdown",
   "metadata": {
    "collapsed": false,
    "pycharm": {
     "name": "#%% md\n"
    }
   },
   "source": [
    "## Mesh atlas construction"
   ]
  },
  {
   "cell_type": "markdown",
   "metadata": {
    "pycharm": {
     "name": "#%% md\n"
    }
   },
   "source": [
    "### Decimate meshes"
   ]
  },
  {
   "cell_type": "code",
   "execution_count": 6,
   "metadata": {
    "pycharm": {
     "name": "#%%\n"
    }
   },
   "outputs": [
    {
     "name": "stdout",
     "output_type": "stream",
     "text": [
      "Decimating meshes...\n",
      "  Input folder: /home/franco/Code/datasets/cq500/converted/selected/test/preprocessed_ct_to_skull/test2/preprocessed_ct_to_skull\n",
      "  Found 4 meshes\n",
      "    [0/4] Input mesh: CQ500-CT-390_CT 5mm POST CONTRAST.stl\n",
      "      Decimated mesh saved in /home/franco/Code/datasets/cq500/converted/selected/test/preprocessed_ct_to_skull/test2/preprocessed_ct_to_skull/CQ500-CT-390_CT 5mm POST CONTRAST_decimated_1perc_6063points.stl\n",
      "    [1/4] Input mesh: CQ500-CT-312_CT PRE CONTRAST THIN.stl\n",
      "      Decimated mesh saved in /home/franco/Code/datasets/cq500/converted/selected/test/preprocessed_ct_to_skull/test2/preprocessed_ct_to_skull/CQ500-CT-312_CT PRE CONTRAST THIN_decimated_1perc_7345points.stl\n",
      "    [2/4] Input mesh: CQ500-CT-405_CT Thin Plain.stl\n",
      "      Decimated mesh saved in /home/franco/Code/datasets/cq500/converted/selected/test/preprocessed_ct_to_skull/test2/preprocessed_ct_to_skull/CQ500-CT-405_CT Thin Plain_decimated_1perc_6907points.stl\n",
      "    [3/4] Input mesh: CQ500-CT-216_CT 0.625mm.stl\n",
      "      Decimated mesh saved in /home/franco/Code/datasets/cq500/converted/selected/test/preprocessed_ct_to_skull/test2/preprocessed_ct_to_skull/CQ500-CT-216_CT 0.625mm_decimated_1perc_7049points.stl\n"
     ]
    }
   ],
   "source": [
    "import vedo\n",
    "\n",
    "print('Decimating meshes...')\n",
    "decimate_percent = 0.01\n",
    "\n",
    "meshes_folder = eu('~/Code/datasets/cq500/converted/selected/test/preprocessed_ct_to_skull/test2/preprocessed_ct_to_skull')\n",
    "print( f'  Input folder: {meshes_folder}')\n",
    "meshes_paths = [os.path.join(meshes_folder, f) for f in os.listdir(meshes_folder) if f.endswith('.stl') and 'decimated' not in f]\n",
    "print(f'  Found {len(meshes_paths)} meshes')\n",
    "for i, mesh in enumerate(meshes_paths):\n",
    "    print(f'    [{i+1}/{len(meshes_paths)}] Input mesh: {os.path.split(mesh)[1]}')\n",
    "    v_mesh = vedo.Mesh(mesh).decimate(decimate_percent)\n",
    "    decimated_path = mesh.replace('.stl', f'_decimated_{int(decimate_percent*100)}perc_{v_mesh.points().shape[0]}points.stl')\n",
    "    v_mesh.write(decimated_path)\n",
    "    print(f'      Decimated mesh saved in {decimated_path}')\n"
   ]
  }
 ],
 "metadata": {
  "kernelspec": {
   "display_name": "Python 3.8.13 ('msr')",
   "language": "python",
   "name": "python3"
  },
  "language_info": {
   "codemirror_mode": {
    "name": "ipython",
    "version": 3
   },
   "file_extension": ".py",
   "mimetype": "text/x-python",
   "name": "python",
   "nbconvert_exporter": "python",
   "pygments_lexer": "ipython3",
   "version": "3.8.13"
  },
  "vscode": {
   "interpreter": {
    "hash": "159c917228f05416d9b819fe32ed20dc8363f68fb18cb83ee7ae4737bd8f0b32"
   }
  }
 },
 "nbformat": 4,
 "nbformat_minor": 0
}