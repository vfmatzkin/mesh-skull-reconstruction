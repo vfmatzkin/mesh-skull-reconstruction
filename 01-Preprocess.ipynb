{
 "cells": [
  {
   "cell_type": "markdown",
   "source": [
    "# Preprocess the data"
   ],
   "metadata": {
    "collapsed": false
   }
  },
  {
   "cell_type": "markdown",
   "metadata": {
    "pycharm": {
     "name": "#%% md\n"
    }
   },
   "source": [
    "## Rigid registration and skull extraction"
   ]
  },
  {
   "cell_type": "code",
   "execution_count": 1,
   "metadata": {
    "jupyter": {
     "outputs_hidden": false
    }
   },
   "outputs": [],
   "source": [
    "import os\n",
    "from os.path import expanduser as eu\n",
    "from headctools.preprocessing import ct_skull, utils"
   ]
  },
  {
   "cell_type": "code",
   "execution_count": 2,
   "metadata": {
    "pycharm": {
     "name": "#%%\n"
    }
   },
   "outputs": [
    {
     "name": "stdout",
     "output_type": "stream",
     "text": [
      "Getting nii.gz images from /home/fmatzkin/Code/datasets/cq500/converted/selected/test\n",
      "Found 2 images\n",
      " No save path specified. Using default save path.\n",
      "Preprocessing {'image': '/home/fmatzkin/Code/datasets/cq500/converted/selected/test/CQ500-CT-312_CT PRE CONTRAST THIN.nii.gz'}\n",
      "  File /home/fmatzkin/Code/datasets/cq500/converted/selected/test/preprocessed_ct_to_skull/CQ500-CT-312_CT PRE CONTRAST THIN.nii.gz already exists..\n",
      "Preprocessing {'image': '/home/fmatzkin/Code/datasets/cq500/converted/selected/test/CQ500-CT-405_CT Thin Plain.nii.gz'}\n",
      "  File /home/fmatzkin/Code/datasets/cq500/converted/selected/test/preprocessed_ct_to_skull/CQ500-CT-405_CT Thin Plain.nii.gz already exists..\n",
      "  Saved images in /home/fmatzkin/Code/datasets/cq500/converted/selected/test/preprocessed_ct_to_skull\n"
     ]
    },
    {
     "data": {
      "text/plain": "'/home/fmatzkin/Code/datasets/cq500/converted/selected/test/preprocessed_ct_to_skull'"
     },
     "execution_count": 2,
     "metadata": {},
     "output_type": "execute_result"
    }
   ],
   "source": [
    "imgs = eu('~/Code/datasets/cq500/converted/selected/test')\n",
    "fixed_img = os.path.join(imgs, 'CQ500-CT-312_CT PRE CONTRAST THIN.nii.gz')\n",
    "# Registered images will be saved in a subfolder with the name of the fixed img\n",
    "\n",
    "params = {'reg_atlas_path': fixed_img,\n",
    "          'overwrite_images': False,\n",
    "          # 'skip_registration': True  # Non-default params\n",
    "          }\n",
    "\n",
    "ct_skull(imgs, params = params)  # Preprocess the imgs"
   ]
  },
  {
   "cell_type": "markdown",
   "metadata": {
    "pycharm": {
     "name": "#%% md\n"
    }
   },
   "source": [
    "## Mesh atlas construction"
   ]
  },
  {
   "cell_type": "markdown",
   "metadata": {
    "pycharm": {
     "name": "#%% md\n"
    }
   },
   "source": [
    "### Decimate meshes"
   ]
  },
  {
   "cell_type": "code",
   "execution_count": 3,
   "metadata": {},
   "outputs": [
    {
     "name": "stdout",
     "output_type": "stream",
     "text": [
      "Decimating meshes...\n",
      "  Input folder: /home/fmatzkin/Code/datasets/cq500/converted/selected/test/preprocessed_ct_to_skull\n",
      "  Found 2 meshes\n",
      "    [1/2] Input mesh: CQ500-CT-312_CT PRE CONTRAST THIN.stl\n",
      "    Mesh already exists, skipping...\n",
      "    [2/2] Input mesh: CQ500-CT-405_CT Thin Plain.stl\n",
      "    Mesh already exists, skipping...\n"
     ]
    }
   ],
   "source": [
    "meshes_folder = '~/Code/datasets/cq500/converted/selected/test/preprocessed_ct_to_skull'\n",
    "decimate_factor = 0.01\n",
    "decimated_meshes = utils.decimate_meshes(meshes_folder, decimate_factor,\n",
    "                                         overwrite=False)"
   ]
  },
  {
   "cell_type": "markdown",
   "metadata": {},
   "source": [
    "### Deformetrica\n",
    "#### Atlas estimation"
   ]
  },
  {
   "cell_type": "code",
   "execution_count": 4,
   "metadata": {},
   "outputs": [],
   "source": [
    "from src.deformetrica import estimate_atlas, estimate_registration\n",
    "template_path, dataset_paths = decimated_meshes[0], decimated_meshes[1:]"
   ]
  },
  {
   "cell_type": "code",
   "execution_count": 4,
   "outputs": [
    {
     "name": "stdout",
     "output_type": "stream",
     "text": [
      "Logger has been set to: INFO\n",
      ">> No initial CP spacing given: using diffeo kernel width of 40.0\n",
      "OMP_NUM_THREADS was not found in environment variables. An automatic value will be set.\n",
      "OMP_NUM_THREADS will be set to 2\n",
      ">> No specified state-file. By default, Deformetrica state will by saved in file: output/deformetrica-state.p.\n",
      ">> Set of 80 control points defined.\n",
      ">> Momenta initialized to zero, for 4 subjects.\n",
      ">> Started estimator: GradientAscent\n"
     ]
    },
    {
     "name": "stderr",
     "output_type": "stream",
     "text": [
      "/home/franco/anaconda3/envs/msr/lib/python3.8/site-packages/deformetrica/core/observations/deformable_objects/landmarks/surface_mesh.py:37: UserWarning:\n",
      "\n",
      "This overload of nonzero is deprecated:\n",
      "\tnonzero(Tensor input, *, Tensor out)\n",
      "Consider using one of the following signatures instead:\n",
      "\tnonzero(Tensor input, *, bool as_tuple) (Triggered internally at  /pytorch/torch/csrc/utils/python_arg_parser.cpp:766.)\n",
      "\n"
     ]
    },
    {
     "name": "stdout",
     "output_type": "stream",
     "text": [
      "------------------------------------- Iteration: 0 -------------------------------------\n",
      ">> Log-likelihood = -4.609E+05 \t [ attachment = -4.609E+05 ; regularity = 0.000E+00 ]\n",
      ">> Step size and gradient norm: \n",
      "\t\t3.349E-06   and   2.986E+05 \t[ landmark_points ]\n",
      "\t\t6.220E-05   and   1.608E+04 \t[ momenta ]\n",
      "------------------------------------- Iteration: 1 -------------------------------------\n",
      ">> Log-likelihood = -4.439E+05 \t [ attachment = -4.439E+05 ; regularity = -3.107E+00 ]\n",
      ">> Step size and gradient norm: \n",
      "\t\t5.024E-06   and   2.927E+05 \t[ landmark_points ]\n",
      "\t\t9.330E-05   and   1.577E+04 \t[ momenta ]\n",
      "------------------------------------- Iteration: 2 -------------------------------------\n",
      ">> Log-likelihood = -4.195E+05 \t [ attachment = -4.195E+05 ; regularity = -1.895E+01 ]\n",
      ">> Step size and gradient norm: \n",
      "\t\t7.536E-06   and   2.833E+05 \t[ landmark_points ]\n",
      "\t\t1.400E-04   and   1.527E+04 \t[ momenta ]\n",
      "------------------------------------- Iteration: 3 -------------------------------------\n",
      ">> Log-likelihood = -3.855E+05 \t [ attachment = -3.854E+05 ; regularity = -6.580E+01 ]\n",
      ">> Step size and gradient norm: \n",
      "\t\t1.130E-05   and   2.683E+05 \t[ landmark_points ]\n",
      "\t\t2.099E-04   and   1.446E+04 \t[ momenta ]\n",
      "------------------------------------- Iteration: 4 -------------------------------------\n",
      ">> Log-likelihood = -3.406E+05 \t [ attachment = -3.404E+05 ; regularity = -1.805E+02 ]\n",
      ">> Step size and gradient norm: \n",
      "\t\t1.696E-05   and   2.445E+05 \t[ landmark_points ]\n",
      "\t\t3.149E-04   and   1.317E+04 \t[ momenta ]\n",
      "------------------------------------- Iteration: 5 -------------------------------------\n",
      ">> Log-likelihood = -2.865E+05 \t [ attachment = -2.861E+05 ; regularity = -4.269E+02 ]\n",
      ">> Step size and gradient norm: \n",
      "\t\t2.543E-05   and   2.092E+05 \t[ landmark_points ]\n",
      "\t\t4.724E-04   and   1.125E+04 \t[ momenta ]\n",
      "------------------------------------- Iteration: 6 -------------------------------------\n",
      ">> Log-likelihood = -2.299E+05 \t [ attachment = -2.290E+05 ; regularity = -8.861E+02 ]\n",
      ">> Step size and gradient norm: \n",
      "\t\t3.815E-05   and   1.638E+05 \t[ landmark_points ]\n",
      "\t\t7.085E-04   and   8.829E+03 \t[ momenta ]\n",
      "------------------------------------- Iteration: 7 -------------------------------------\n",
      ">> Log-likelihood = -1.798E+05 \t [ attachment = -1.782E+05 ; regularity = -1.602E+03 ]\n",
      ">> Step size and gradient norm: \n",
      "\t\t5.723E-05   and   1.171E+05 \t[ landmark_points ]\n",
      "\t\t1.063E-03   and   6.393E+03 \t[ momenta ]\n",
      "------------------------------------- Iteration: 8 -------------------------------------\n",
      ">> Log-likelihood = -1.419E+05 \t [ attachment = -1.394E+05 ; regularity = -2.518E+03 ]\n",
      ">> Step size and gradient norm: \n",
      "\t\t8.584E-05   and   7.627E+04 \t[ landmark_points ]\n",
      "\t\t1.594E-03   and   4.259E+03 \t[ momenta ]\n",
      "------------------------------------- Iteration: 9 -------------------------------------\n",
      ">> Log-likelihood = -1.172E+05 \t [ attachment = -1.137E+05 ; regularity = -3.485E+03 ]\n",
      ">> Step size and gradient norm: \n",
      "\t\t1.288E-04   and   4.585E+04 \t[ landmark_points ]\n",
      "\t\t2.391E-03   and   2.736E+03 \t[ momenta ]\n",
      "------------------------------------- Iteration: 10 -------------------------------------\n",
      ">> Log-likelihood = -1.009E+05 \t [ attachment = -9.665E+04 ; regularity = -4.284E+03 ]\n",
      ">> Step size and gradient norm: \n",
      "\t\t1.931E-04   and   2.972E+04 \t[ landmark_points ]\n",
      "\t\t3.587E-03   and   1.933E+03 \t[ momenta ]\n",
      "------------------------------------- Iteration: 11 -------------------------------------\n",
      ">> Log-likelihood = -8.812E+04 \t [ attachment = -8.326E+04 ; regularity = -4.860E+03 ]\n",
      ">> Step size and gradient norm: \n",
      "\t\t2.897E-04   and   2.347E+04 \t[ landmark_points ]\n",
      "\t\t5.380E-03   and   1.572E+03 \t[ momenta ]\n",
      "------------------------------------- Iteration: 12 -------------------------------------\n",
      ">> Log-likelihood = -8.381E+04 \t [ attachment = -7.811E+04 ; regularity = -5.703E+03 ]\n",
      ">> Step size and gradient norm: \n",
      "\t\t4.346E-04   and   5.832E+04 \t[ landmark_points ]\n",
      "\t\t8.071E-03   and   4.024E+03 \t[ momenta ]\n",
      ">> Step size and gradient norm: \n",
      "\t\t2.173E-04   and   5.832E+04 \t[ landmark_points ]\n",
      "\t\t4.035E-03   and   4.024E+03 \t[ momenta ]\n",
      ">> Step size and gradient norm: \n",
      "\t\t1.086E-04   and   5.832E+04 \t[ landmark_points ]\n",
      "\t\t2.018E-03   and   4.024E+03 \t[ momenta ]\n",
      "------------------------------------- Iteration: 13 -------------------------------------\n",
      ">> Log-likelihood = -7.634E+04 \t [ attachment = -7.077E+04 ; regularity = -5.568E+03 ]\n",
      ">> Step size and gradient norm: \n",
      "\t\t1.086E-04   and   2.494E+04 \t[ landmark_points ]\n",
      "\t\t1.009E-03   and   1.535E+03 \t[ momenta ]\n",
      "------------------------------------- Iteration: 14 -------------------------------------\n",
      ">> Log-likelihood = -7.447E+04 \t [ attachment = -6.875E+04 ; regularity = -5.720E+03 ]\n",
      ">> Step size and gradient norm: \n",
      "\t\t1.630E-04   and   1.525E+04 \t[ landmark_points ]\n",
      "\t\t1.513E-03   and   1.018E+03 \t[ momenta ]\n",
      "------------------------------------- Iteration: 15 -------------------------------------\n",
      ">> Log-likelihood = -7.266E+04 \t [ attachment = -6.687E+04 ; regularity = -5.789E+03 ]\n",
      ">> Step size and gradient norm: \n",
      "\t\t2.445E-04   and   1.563E+04 \t[ landmark_points ]\n",
      "\t\t2.270E-03   and   9.894E+02 \t[ momenta ]\n",
      "------------------------------------- Iteration: 16 -------------------------------------\n",
      ">> Log-likelihood = -7.064E+04 \t [ attachment = -6.463E+04 ; regularity = -6.010E+03 ]\n",
      ">> Step size and gradient norm: \n",
      "\t\t3.667E-04   and   2.067E+04 \t[ landmark_points ]\n",
      "\t\t3.405E-03   and   1.363E+03 \t[ momenta ]\n",
      "------------------------------------- Iteration: 17 -------------------------------------\n",
      ">> Log-likelihood = -6.932E+04 \t [ attachment = -6.330E+04 ; regularity = -6.018E+03 ]\n",
      ">> Step size and gradient norm: \n",
      "\t\t3.667E-04   and   3.083E+04 \t[ landmark_points ]\n",
      "\t\t1.702E-03   and   1.919E+03 \t[ momenta ]\n",
      "------------------------------------- Iteration: 18 -------------------------------------\n",
      ">> Log-likelihood = -6.704E+04 \t [ attachment = -6.090E+04 ; regularity = -6.140E+03 ]\n",
      ">> Step size and gradient norm: \n",
      "\t\t3.667E-04   and   1.812E+04 \t[ landmark_points ]\n",
      "\t\t8.512E-04   and   1.162E+03 \t[ momenta ]\n",
      "------------------------------------- Iteration: 19 -------------------------------------\n",
      ">> Log-likelihood = -6.556E+04 \t [ attachment = -5.942E+04 ; regularity = -6.135E+03 ]\n",
      ">> Step size and gradient norm: \n",
      "\t\t5.500E-04   and   1.258E+04 \t[ landmark_points ]\n",
      "\t\t1.277E-03   and   8.115E+02 \t[ momenta ]\n",
      "------------------------------------- Iteration: 20 -------------------------------------\n",
      ">> Log-likelihood = -6.398E+04 \t [ attachment = -5.776E+04 ; regularity = -6.226E+03 ]\n",
      ">> Step size and gradient norm: \n",
      "\t\t8.250E-04   and   1.322E+04 \t[ landmark_points ]\n",
      "\t\t1.915E-03   and   8.813E+02 \t[ momenta ]\n",
      "------------------------------------- Iteration: 21 -------------------------------------\n",
      ">> Log-likelihood = -6.269E+04 \t [ attachment = -5.645E+04 ; regularity = -6.239E+03 ]\n",
      ">> Step size and gradient norm: \n",
      "\t\t1.238E-03   and   2.675E+04 \t[ landmark_points ]\n",
      "\t\t2.873E-03   and   1.609E+03 \t[ momenta ]\n",
      ">> Step size and gradient norm: \n",
      "\t\t6.188E-04   and   2.675E+04 \t[ landmark_points ]\n",
      "\t\t1.436E-03   and   1.609E+03 \t[ momenta ]\n",
      "------------------------------------- Iteration: 22 -------------------------------------\n",
      ">> Log-likelihood = -6.111E+04 \t [ attachment = -5.479E+04 ; regularity = -6.322E+03 ]\n",
      ">> Step size and gradient norm: \n",
      "\t\t6.188E-04   and   1.857E+04 \t[ landmark_points ]\n",
      "\t\t7.182E-04   and   1.161E+03 \t[ momenta ]\n",
      "------------------------------------- Iteration: 23 -------------------------------------\n",
      ">> Log-likelihood = -5.993E+04 \t [ attachment = -5.363E+04 ; regularity = -6.300E+03 ]\n",
      ">> Step size and gradient norm: \n",
      "\t\t9.281E-04   and   1.346E+04 \t[ landmark_points ]\n",
      "\t\t1.077E-03   and   8.476E+02 \t[ momenta ]\n",
      "------------------------------------- Iteration: 24 -------------------------------------\n",
      ">> Log-likelihood = -5.894E+04 \t [ attachment = -5.257E+04 ; regularity = -6.372E+03 ]\n",
      ">> Step size and gradient norm: \n",
      "\t\t1.392E-03   and   1.835E+04 \t[ landmark_points ]\n",
      "\t\t1.616E-03   and   1.150E+03 \t[ momenta ]\n",
      "------------------------------------- Iteration: 25 -------------------------------------\n",
      ">> Log-likelihood = -5.856E+04 \t [ attachment = -5.222E+04 ; regularity = -6.342E+03 ]\n",
      ">> Estimation took: 24 minutes and 02 seconds\n"
     ]
    },
    {
     "data": {
      "text/plain": "<deformetrica.core.models.deterministic_atlas.DeterministicAtlas at 0x7f01c91cd850>"
     },
     "execution_count": 4,
     "metadata": {},
     "output_type": "execute_result"
    }
   ],
   "source": [
    "estimate_atlas(template_path, dataset_paths)"
   ],
   "metadata": {
    "collapsed": false,
    "pycharm": {
     "name": "#%%\n"
    }
   }
  },
  {
   "cell_type": "code",
   "execution_count": 6,
   "outputs": [
    {
     "name": "stdout",
     "output_type": "stream",
     "text": [
      "Logger has been set to: INFO\n",
      ">> No initial CP spacing given: using diffeo kernel width of 40.0\n",
      "OMP_NUM_THREADS was not found in environment variables. An automatic value will be set.\n",
      "OMP_NUM_THREADS will be set to 4\n",
      ">> No specified state-file. By default, Deformetrica state will by saved in file: /home/fmatzkin/Code/datasets/cq500/converted/selected/test/preprocessed_ct_to_skull/reg_CQ500-CT-312_CT PRE CONTRAST THIN_decimated_1perc/deformetrica-state.p.\n",
      ">> Set of 80 control points defined.\n",
      ">> Momenta initialized to zero, for 1 subjects.\n",
      ">> Started estimator: GradientAscent\n"
     ]
    },
    {
     "name": "stderr",
     "output_type": "stream",
     "text": [
      "/home/fmatzkin/Code/envs/anaconda3/envs/msr/lib/python3.8/site-packages/deformetrica/core/observations/deformable_objects/landmarks/surface_mesh.py:37: UserWarning:\n",
      "\n",
      "This overload of nonzero is deprecated:\n",
      "\tnonzero(Tensor input, *, Tensor out)\n",
      "Consider using one of the following signatures instead:\n",
      "\tnonzero(Tensor input, *, bool as_tuple) (Triggered internally at  /pytorch/torch/csrc/utils/python_arg_parser.cpp:766.)\n",
      "\n"
     ]
    },
    {
     "name": "stdout",
     "output_type": "stream",
     "text": [
      "------------------------------------- Iteration: 0 -------------------------------------\n",
      ">> Log-likelihood = -5.269E+04 \t [ attachment = -5.269E+04 ; regularity = 0.000E+00 ]\n",
      ">> Step size and gradient norm: \n",
      "\t\t1.955E-04   and   5.114E+03 \t[ momenta ]\n",
      "------------------------------------- Iteration: 1 -------------------------------------\n",
      ">> Log-likelihood = -4.777E+04 \t [ attachment = -4.776E+04 ; regularity = -3.230E+00 ]\n",
      ">> Step size and gradient norm: \n",
      "\t\t2.933E-04   and   4.730E+03 \t[ momenta ]\n",
      "------------------------------------- Iteration: 2 -------------------------------------\n",
      ">> Log-likelihood = -4.159E+04 \t [ attachment = -4.157E+04 ; regularity = -1.836E+01 ]\n",
      ">> Step size and gradient norm: \n",
      "\t\t4.400E-04   and   4.175E+03 \t[ momenta ]\n",
      "------------------------------------- Iteration: 3 -------------------------------------\n",
      ">> Log-likelihood = -3.462E+04 \t [ attachment = -3.456E+04 ; regularity = -5.715E+01 ]\n",
      ">> Step size and gradient norm: \n",
      "\t\t6.599E-04   and   3.429E+03 \t[ momenta ]\n",
      "------------------------------------- Iteration: 4 -------------------------------------\n",
      ">> Log-likelihood = -2.788E+04 \t [ attachment = -2.775E+04 ; regularity = -1.331E+02 ]\n",
      ">> Step size and gradient norm: \n",
      "\t\t9.899E-04   and   2.562E+03 \t[ momenta ]\n",
      "------------------------------------- Iteration: 5 -------------------------------------\n",
      ">> Log-likelihood = -2.249E+04 \t [ attachment = -2.224E+04 ; regularity = -2.501E+02 ]\n",
      ">> Step size and gradient norm: \n",
      "\t\t1.485E-03   and   1.772E+03 \t[ momenta ]\n",
      "------------------------------------- Iteration: 6 -------------------------------------\n",
      ">> Log-likelihood = -1.867E+04 \t [ attachment = -1.828E+04 ; regularity = -3.913E+02 ]\n",
      ">> Step size and gradient norm: \n",
      "\t\t2.227E-03   and   1.208E+03 \t[ momenta ]\n",
      "------------------------------------- Iteration: 7 -------------------------------------\n",
      ">> Log-likelihood = -1.600E+04 \t [ attachment = -1.546E+04 ; regularity = -5.356E+02 ]\n",
      ">> Step size and gradient norm: \n",
      "\t\t3.341E-03   and   8.327E+02 \t[ momenta ]\n",
      "------------------------------------- Iteration: 8 -------------------------------------\n",
      ">> Log-likelihood = -1.407E+04 \t [ attachment = -1.339E+04 ; regularity = -6.851E+02 ]\n",
      ">> Step size and gradient norm: \n",
      "\t\t5.011E-03   and   5.838E+02 \t[ momenta ]\n",
      "------------------------------------- Iteration: 9 -------------------------------------\n",
      ">> Log-likelihood = -1.266E+04 \t [ attachment = -1.183E+04 ; regularity = -8.352E+02 ]\n",
      ">> Step size and gradient norm: \n",
      "\t\t7.517E-03   and   4.263E+02 \t[ momenta ]\n",
      "------------------------------------- Iteration: 10 -------------------------------------\n",
      ">> Log-likelihood = -1.179E+04 \t [ attachment = -1.077E+04 ; regularity = -1.023E+03 ]\n",
      ">> Step size and gradient norm: \n",
      "\t\t1.128E-02   and   7.080E+02 \t[ momenta ]\n",
      ">> Step size and gradient norm: \n",
      "\t\t5.638E-03   and   7.080E+02 \t[ momenta ]\n",
      ">> Step size and gradient norm: \n",
      "\t\t2.819E-03   and   7.080E+02 \t[ momenta ]\n",
      ">> Step size and gradient norm: \n",
      "\t\t1.409E-03   and   7.080E+02 \t[ momenta ]\n",
      "------------------------------------- Iteration: 11 -------------------------------------\n",
      ">> Log-likelihood = -1.146E+04 \t [ attachment = -1.044E+04 ; regularity = -1.020E+03 ]\n",
      ">> Step size and gradient norm: \n",
      "\t\t2.114E-03   and   3.524E+02 \t[ momenta ]\n",
      "------------------------------------- Iteration: 12 -------------------------------------\n",
      ">> Log-likelihood = -1.127E+04 \t [ attachment = -1.022E+04 ; regularity = -1.050E+03 ]\n",
      ">> Step size and gradient norm: \n",
      "\t\t3.171E-03   and   3.350E+02 \t[ momenta ]\n",
      "------------------------------------- Iteration: 13 -------------------------------------\n",
      ">> Log-likelihood = -1.108E+04 \t [ attachment = -9.997E+03 ; regularity = -1.084E+03 ]\n",
      ">> Step size and gradient norm: \n",
      "\t\t4.757E-03   and   4.387E+02 \t[ momenta ]\n",
      ">> Step size and gradient norm: \n",
      "\t\t2.378E-03   and   4.387E+02 \t[ momenta ]\n",
      "------------------------------------- Iteration: 14 -------------------------------------\n",
      ">> Log-likelihood = -1.095E+04 \t [ attachment = -9.831E+03 ; regularity = -1.122E+03 ]\n",
      ">> Step size and gradient norm: \n",
      "\t\t3.568E-03   and   4.920E+02 \t[ momenta ]\n",
      ">> Step size and gradient norm: \n",
      "\t\t1.784E-03   and   4.920E+02 \t[ momenta ]\n",
      "------------------------------------- Iteration: 15 -------------------------------------\n",
      ">> Log-likelihood = -1.079E+04 \t [ attachment = -9.656E+03 ; regularity = -1.134E+03 ]\n",
      ">> Step size and gradient norm: \n",
      "\t\t2.676E-03   and   3.662E+02 \t[ momenta ]\n",
      "------------------------------------- Iteration: 16 -------------------------------------\n",
      ">> Log-likelihood = -1.069E+04 \t [ attachment = -9.520E+03 ; regularity = -1.173E+03 ]\n",
      ">> Step size and gradient norm: \n",
      "\t\t4.014E-03   and   4.698E+02 \t[ momenta ]\n",
      ">> Step size and gradient norm: \n",
      "\t\t2.007E-03   and   4.698E+02 \t[ momenta ]\n",
      "------------------------------------- Iteration: 17 -------------------------------------\n",
      ">> Log-likelihood = -1.057E+04 \t [ attachment = -9.384E+03 ; regularity = -1.185E+03 ]\n",
      ">> Step size and gradient norm: \n",
      "\t\t3.010E-03   and   4.162E+02 \t[ momenta ]\n",
      ">> Step size and gradient norm: \n",
      "\t\t1.505E-03   and   4.162E+02 \t[ momenta ]\n",
      "------------------------------------- Iteration: 18 -------------------------------------\n",
      ">> Log-likelihood = -1.044E+04 \t [ attachment = -9.236E+03 ; regularity = -1.206E+03 ]\n",
      ">> Step size and gradient norm: \n",
      "\t\t2.258E-03   and   2.539E+02 \t[ momenta ]\n",
      "------------------------------------- Iteration: 19 -------------------------------------\n",
      ">> Log-likelihood = -1.035E+04 \t [ attachment = -9.120E+03 ; regularity = -1.225E+03 ]\n",
      ">> Step size and gradient norm: \n",
      "\t\t3.386E-03   and   2.549E+02 \t[ momenta ]\n",
      "------------------------------------- Iteration: 20 -------------------------------------\n",
      ">> Log-likelihood = -1.026E+04 \t [ attachment = -8.993E+03 ; regularity = -1.265E+03 ]\n",
      ">> Step size and gradient norm: \n",
      "\t\t5.080E-03   and   3.829E+02 \t[ momenta ]\n",
      ">> Step size and gradient norm: \n",
      "\t\t2.540E-03   and   3.829E+02 \t[ momenta ]\n",
      "------------------------------------- Iteration: 21 -------------------------------------\n",
      ">> Log-likelihood = -1.022E+04 \t [ attachment = -8.938E+03 ; regularity = -1.279E+03 ]\n",
      ">> Step size and gradient norm: \n",
      "\t\t3.810E-03   and   4.870E+02 \t[ momenta ]\n",
      ">> Step size and gradient norm: \n",
      "\t\t1.905E-03   and   4.870E+02 \t[ momenta ]\n",
      "------------------------------------- Iteration: 22 -------------------------------------\n",
      ">> Log-likelihood = -1.011E+04 \t [ attachment = -8.805E+03 ; regularity = -1.306E+03 ]\n",
      ">> Step size and gradient norm: \n",
      "\t\t2.857E-03   and   3.901E+02 \t[ momenta ]\n",
      ">> Step size and gradient norm: \n",
      "\t\t1.429E-03   and   3.901E+02 \t[ momenta ]\n",
      "------------------------------------- Iteration: 23 -------------------------------------\n",
      ">> Log-likelihood = -1.001E+04 \t [ attachment = -8.696E+03 ; regularity = -1.312E+03 ]\n",
      ">> Step size and gradient norm: \n",
      "\t\t2.143E-03   and   2.071E+02 \t[ momenta ]\n",
      "------------------------------------- Iteration: 24 -------------------------------------\n",
      ">> Log-likelihood = -9.944E+03 \t [ attachment = -8.612E+03 ; regularity = -1.332E+03 ]\n",
      ">> Step size and gradient norm: \n",
      "\t\t3.214E-03   and   2.020E+02 \t[ momenta ]\n",
      "------------------------------------- Iteration: 25 -------------------------------------\n",
      ">> Log-likelihood = -9.876E+03 \t [ attachment = -8.521E+03 ; regularity = -1.354E+03 ]\n",
      ">> Estimation took: 02 minutes and 55 seconds\n"
     ]
    }
   ],
   "source": [
    "estimate_registration(template_path, dataset_paths)"
   ],
   "metadata": {
    "collapsed": false,
    "pycharm": {
     "name": "#%%\n"
    }
   }
  },
  {
   "cell_type": "markdown",
   "source": [
    "## Image with defect registration test\n",
    "\n",
    "Test-time mesh registration simulation:\n",
    "\n",
    "1.  Grab an image without defect.\n",
    "2.  Mesh and register the template to the skull.\n",
    "3.  Simulate a craniectomy.\n",
    "4.  Mesh the skull with the defect.\n",
    "5.  Register (2) to (4).\n",
    "\n",
    "### Simulate defect"
   ],
   "metadata": {
    "collapsed": false
   }
  },
  {
   "cell_type": "code",
   "execution_count": 5,
   "outputs": [
    {
     "ename": "KeyboardInterrupt",
     "evalue": "",
     "output_type": "error",
     "traceback": [
      "\u001B[0;31m---------------------------------------------------------------------------\u001B[0m",
      "\u001B[0;31mKeyboardInterrupt\u001B[0m                         Traceback (most recent call last)",
      "Input \u001B[0;32mIn [5]\u001B[0m, in \u001B[0;36m<cell line: 6>\u001B[0;34m()\u001B[0m\n\u001B[1;32m      4\u001B[0m files \u001B[38;5;241m=\u001B[39m [os\u001B[38;5;241m.\u001B[39mpath\u001B[38;5;241m.\u001B[39mjoin(input_folder, f) \u001B[38;5;28;01mfor\u001B[39;00m f \u001B[38;5;129;01min\u001B[39;00m os\u001B[38;5;241m.\u001B[39mlistdir(input_folder) \u001B[38;5;28;01mif\u001B[39;00m f\u001B[38;5;241m.\u001B[39mendswith(\u001B[38;5;124m'\u001B[39m\u001B[38;5;124m_image.nii.gz\u001B[39m\u001B[38;5;124m'\u001B[39m)]\n\u001B[1;32m      6\u001B[0m \u001B[38;5;28;01mfor\u001B[39;00m fpath \u001B[38;5;129;01min\u001B[39;00m files:\n\u001B[0;32m----> 7\u001B[0m     \u001B[43msimulate_and_save\u001B[49m(fpath, \u001B[38;5;241m1\u001B[39m, os\u001B[38;5;241m.\u001B[39mpath\u001B[38;5;241m.\u001B[39mjoin(input_folder, \u001B[38;5;124m'\u001B[39m\u001B[38;5;124mcran\u001B[39m\u001B[38;5;124m'\u001B[39m))\n",
      "Input \u001B[0;32mIn [5]\u001B[0m, in \u001B[0;36m<cell line: 6>\u001B[0;34m()\u001B[0m\n\u001B[1;32m      4\u001B[0m files \u001B[38;5;241m=\u001B[39m [os\u001B[38;5;241m.\u001B[39mpath\u001B[38;5;241m.\u001B[39mjoin(input_folder, f) \u001B[38;5;28;01mfor\u001B[39;00m f \u001B[38;5;129;01min\u001B[39;00m os\u001B[38;5;241m.\u001B[39mlistdir(input_folder) \u001B[38;5;28;01mif\u001B[39;00m f\u001B[38;5;241m.\u001B[39mendswith(\u001B[38;5;124m'\u001B[39m\u001B[38;5;124m_image.nii.gz\u001B[39m\u001B[38;5;124m'\u001B[39m)]\n\u001B[1;32m      6\u001B[0m \u001B[38;5;28;01mfor\u001B[39;00m fpath \u001B[38;5;129;01min\u001B[39;00m files:\n\u001B[0;32m----> 7\u001B[0m     \u001B[43msimulate_and_save\u001B[49m(fpath, \u001B[38;5;241m1\u001B[39m, os\u001B[38;5;241m.\u001B[39mpath\u001B[38;5;241m.\u001B[39mjoin(input_folder, \u001B[38;5;124m'\u001B[39m\u001B[38;5;124mcran\u001B[39m\u001B[38;5;124m'\u001B[39m))\n",
      "File \u001B[0;32m/snap/pycharm-professional/302/plugins/python/helpers/pydev/_pydevd_bundle/pydevd_frame.py:747\u001B[0m, in \u001B[0;36mPyDBFrame.trace_dispatch\u001B[0;34m(self, frame, event, arg)\u001B[0m\n\u001B[1;32m    745\u001B[0m \u001B[38;5;66;03m# if thread has a suspend flag, we suspend with a busy wait\u001B[39;00m\n\u001B[1;32m    746\u001B[0m \u001B[38;5;28;01mif\u001B[39;00m info\u001B[38;5;241m.\u001B[39mpydev_state \u001B[38;5;241m==\u001B[39m STATE_SUSPEND:\n\u001B[0;32m--> 747\u001B[0m     \u001B[38;5;28;43mself\u001B[39;49m\u001B[38;5;241;43m.\u001B[39;49m\u001B[43mdo_wait_suspend\u001B[49m\u001B[43m(\u001B[49m\u001B[43mthread\u001B[49m\u001B[43m,\u001B[49m\u001B[43m \u001B[49m\u001B[43mframe\u001B[49m\u001B[43m,\u001B[49m\u001B[43m \u001B[49m\u001B[43mevent\u001B[49m\u001B[43m,\u001B[49m\u001B[43m \u001B[49m\u001B[43marg\u001B[49m\u001B[43m)\u001B[49m\n\u001B[1;32m    748\u001B[0m     \u001B[38;5;66;03m# No need to reset frame.f_trace to keep the same trace function.\u001B[39;00m\n\u001B[1;32m    749\u001B[0m     \u001B[38;5;28;01mreturn\u001B[39;00m \u001B[38;5;28mself\u001B[39m\u001B[38;5;241m.\u001B[39mtrace_dispatch\n",
      "File \u001B[0;32m/snap/pycharm-professional/302/plugins/python/helpers/pydev/_pydevd_bundle/pydevd_frame.py:144\u001B[0m, in \u001B[0;36mPyDBFrame.do_wait_suspend\u001B[0;34m(self, *args, **kwargs)\u001B[0m\n\u001B[1;32m    143\u001B[0m \u001B[38;5;28;01mdef\u001B[39;00m \u001B[38;5;21mdo_wait_suspend\u001B[39m(\u001B[38;5;28mself\u001B[39m, \u001B[38;5;241m*\u001B[39margs, \u001B[38;5;241m*\u001B[39m\u001B[38;5;241m*\u001B[39mkwargs):\n\u001B[0;32m--> 144\u001B[0m     \u001B[38;5;28;43mself\u001B[39;49m\u001B[38;5;241;43m.\u001B[39;49m\u001B[43m_args\u001B[49m\u001B[43m[\u001B[49m\u001B[38;5;241;43m0\u001B[39;49m\u001B[43m]\u001B[49m\u001B[38;5;241;43m.\u001B[39;49m\u001B[43mdo_wait_suspend\u001B[49m\u001B[43m(\u001B[49m\u001B[38;5;241;43m*\u001B[39;49m\u001B[43margs\u001B[49m\u001B[43m,\u001B[49m\u001B[43m \u001B[49m\u001B[38;5;241;43m*\u001B[39;49m\u001B[38;5;241;43m*\u001B[39;49m\u001B[43mkwargs\u001B[49m\u001B[43m)\u001B[49m\n",
      "File \u001B[0;32m/snap/pycharm-professional/302/plugins/python/helpers/pydev/pydevd.py:1160\u001B[0m, in \u001B[0;36mPyDB.do_wait_suspend\u001B[0;34m(self, thread, frame, event, arg, send_suspend_message, is_unhandled_exception)\u001B[0m\n\u001B[1;32m   1157\u001B[0m         from_this_thread\u001B[38;5;241m.\u001B[39mappend(frame_id)\n\u001B[1;32m   1159\u001B[0m \u001B[38;5;28;01mwith\u001B[39;00m \u001B[38;5;28mself\u001B[39m\u001B[38;5;241m.\u001B[39m_threads_suspended_single_notification\u001B[38;5;241m.\u001B[39mnotify_thread_suspended(thread_id, stop_reason):\n\u001B[0;32m-> 1160\u001B[0m     \u001B[38;5;28;43mself\u001B[39;49m\u001B[38;5;241;43m.\u001B[39;49m\u001B[43m_do_wait_suspend\u001B[49m\u001B[43m(\u001B[49m\u001B[43mthread\u001B[49m\u001B[43m,\u001B[49m\u001B[43m \u001B[49m\u001B[43mframe\u001B[49m\u001B[43m,\u001B[49m\u001B[43m \u001B[49m\u001B[43mevent\u001B[49m\u001B[43m,\u001B[49m\u001B[43m \u001B[49m\u001B[43marg\u001B[49m\u001B[43m,\u001B[49m\u001B[43m \u001B[49m\u001B[43msuspend_type\u001B[49m\u001B[43m,\u001B[49m\u001B[43m \u001B[49m\u001B[43mfrom_this_thread\u001B[49m\u001B[43m)\u001B[49m\n",
      "File \u001B[0;32m/snap/pycharm-professional/302/plugins/python/helpers/pydev/pydevd.py:1175\u001B[0m, in \u001B[0;36mPyDB._do_wait_suspend\u001B[0;34m(self, thread, frame, event, arg, suspend_type, from_this_thread)\u001B[0m\n\u001B[1;32m   1172\u001B[0m             \u001B[38;5;28mself\u001B[39m\u001B[38;5;241m.\u001B[39m_call_mpl_hook()\n\u001B[1;32m   1174\u001B[0m         \u001B[38;5;28mself\u001B[39m\u001B[38;5;241m.\u001B[39mprocess_internal_commands()\n\u001B[0;32m-> 1175\u001B[0m         \u001B[43mtime\u001B[49m\u001B[38;5;241;43m.\u001B[39;49m\u001B[43msleep\u001B[49m\u001B[43m(\u001B[49m\u001B[38;5;241;43m0.01\u001B[39;49m\u001B[43m)\u001B[49m\n\u001B[1;32m   1177\u001B[0m \u001B[38;5;28mself\u001B[39m\u001B[38;5;241m.\u001B[39mcancel_async_evaluation(get_current_thread_id(thread), \u001B[38;5;28mstr\u001B[39m(\u001B[38;5;28mid\u001B[39m(frame)))\n\u001B[1;32m   1179\u001B[0m \u001B[38;5;66;03m# process any stepping instructions\u001B[39;00m\n",
      "\u001B[0;31mKeyboardInterrupt\u001B[0m: "
     ]
    }
   ],
   "source": [
    "from headctools.tools.offline_augmentation import simulate_and_save\n",
    "\n",
    "input_folder = os.path.expanduser(meshes_folder)\n",
    "files = [os.path.join(input_folder, f) for f in os.listdir(input_folder) if f.endswith('_image.nii.gz')]\n",
    "\n",
    "for fpath in files:\n",
    "    simulate_and_save(fpath, 1, os.path.join(input_folder, 'cran'))"
   ],
   "metadata": {
    "collapsed": false
   }
  },
  {
   "cell_type": "markdown",
   "source": [
    "### Convert to stl"
   ],
   "metadata": {
    "collapsed": false
   }
  },
  {
   "cell_type": "code",
   "execution_count": null,
   "outputs": [],
   "source": [
    "!python ~/Code/some-gists/mesh/nii_to_stl_marching_cubes.py /home/fmatzkin/Code/datasets/cq500/converted/selected/test/preprocessed_ct_to_skull/cran/def/"
   ],
   "metadata": {
    "collapsed": false
   }
  },
  {
   "cell_type": "markdown",
   "source": [
    "### Decimate outputs"
   ],
   "metadata": {
    "collapsed": false
   }
  },
  {
   "cell_type": "code",
   "execution_count": 6,
   "outputs": [
    {
     "name": "stdout",
     "output_type": "stream",
     "text": [
      "Decimating meshes...\n",
      "  Input folder: /home/fmatzkin/Code/datasets/cq500/converted/selected/test/preprocessed_ct_to_skull/cran/def/meshes/\n",
      "  Found 2 meshes\n",
      "    [1/2] Input mesh: CQ500-CT-312_CT PRE CONTRAST THIN_0_sim.stl\n",
      "    Mesh already exists, skipping...\n",
      "    [2/2] Input mesh: CQ500-CT-405_CT Thin Plain_0_sim.stl\n",
      "    Mesh already exists, skipping...\n"
     ]
    }
   ],
   "source": [
    "meshes_folder = '/home/fmatzkin/Code/datasets/cq500/converted/selected/test/preprocessed_ct_to_skull/cran/def/meshes/'\n",
    "decimate_factor = 0.01\n",
    "decimated_meshes_def = utils.decimate_meshes(meshes_folder, decimate_factor,\n",
    "                                             overwrite=False)"
   ],
   "metadata": {
    "collapsed": false
   }
  },
  {
   "cell_type": "markdown",
   "source": [
    "### Register atlas to simulated defect images\n",
    "Here the template image (the subject 312 with the full skull) will be registered to every skull with a defect.\n",
    "For each patient with a defect, a folder will be created with two outputs:\n",
    " 1) DeterministicAtlas__EstimatedParameters__Template_skull.vtk\n",
    " 2) DeterministicAtlas__Reconstruction__skull__IMAGE_NAME.vtk\n",
    "\n",
    "(1) Aligns better with the postoperative image if it's the same subject image, otherwise (2) will be the best adaptation of the template to this image."
   ],
   "metadata": {
    "collapsed": false
   }
  },
  {
   "cell_type": "code",
   "execution_count": 17,
   "outputs": [
    {
     "name": "stdout",
     "output_type": "stream",
     "text": [
      "Logger has been set to: INFO\n",
      ">> No initial CP spacing given: using diffeo kernel width of 40.0\n",
      "OMP_NUM_THREADS was not found in environment variables. An automatic value will be set.\n",
      "OMP_NUM_THREADS will be set to 4\n",
      "context has already been set\n",
      ">> No specified state-file. By default, Deformetrica state will by saved in file: /home/fmatzkin/Code/datasets/cq500/converted/selected/test/preprocessed_ct_to_skull/cran/def/meshes/decimated/reg_CQ500-CT-312_CT PRE CONTRAST THIN_0_sim_decimated_1perc/deformetrica-state.p.\n",
      ">> Set of 80 control points defined.\n",
      ">> Momenta initialized to zero, for 1 subjects.\n",
      ">> Started estimator: GradientAscent\n",
      "------------------------------------- Iteration: 0 -------------------------------------\n",
      ">> Log-likelihood = -6.289E+03 \t [ attachment = -6.289E+03 ; regularity = 0.000E+00 ]\n",
      ">> Step size and gradient norm: \n",
      "\t\t3.664E-03   and   2.730E+02 \t[ momenta ]\n",
      "------------------------------------- Iteration: 1 -------------------------------------\n",
      ">> Log-likelihood = -6.038E+03 \t [ attachment = -6.036E+03 ; regularity = -1.584E+00 ]\n",
      ">> Step size and gradient norm: \n",
      "\t\t5.495E-03   and   2.398E+02 \t[ momenta ]\n",
      "------------------------------------- Iteration: 2 -------------------------------------\n",
      ">> Log-likelihood = -5.747E+03 \t [ attachment = -5.739E+03 ; regularity = -7.953E+00 ]\n",
      ">> Step size and gradient norm: \n",
      "\t\t8.243E-03   and   2.158E+02 \t[ momenta ]\n",
      "------------------------------------- Iteration: 3 -------------------------------------\n",
      ">> Log-likelihood = -5.468E+03 \t [ attachment = -5.444E+03 ; regularity = -2.436E+01 ]\n",
      ">> Step size and gradient norm: \n",
      "\t\t1.236E-02   and   3.356E+02 \t[ momenta ]\n",
      ">> Step size and gradient norm: \n",
      "\t\t6.182E-03   and   3.356E+02 \t[ momenta ]\n",
      ">> Step size and gradient norm: \n",
      "\t\t3.091E-03   and   3.356E+02 \t[ momenta ]\n",
      "------------------------------------- Iteration: 4 -------------------------------------\n",
      ">> Log-likelihood = -5.431E+03 \t [ attachment = -5.401E+03 ; regularity = -3.055E+01 ]\n",
      ">> Step size and gradient norm: \n",
      "\t\t4.637E-03   and   4.550E+02 \t[ momenta ]\n",
      ">> Step size and gradient norm: \n",
      "\t\t2.318E-03   and   4.550E+02 \t[ momenta ]\n",
      "------------------------------------- Iteration: 5 -------------------------------------\n",
      ">> Log-likelihood = -5.352E+03 \t [ attachment = -5.316E+03 ; regularity = -3.624E+01 ]\n",
      ">> Step size and gradient norm: \n",
      "\t\t3.478E-03   and   4.298E+02 \t[ momenta ]\n",
      ">> Step size and gradient norm: \n",
      "\t\t1.739E-03   and   4.298E+02 \t[ momenta ]\n",
      "------------------------------------- Iteration: 6 -------------------------------------\n",
      ">> Log-likelihood = -5.237E+03 \t [ attachment = -5.198E+03 ; regularity = -3.878E+01 ]\n",
      ">> Step size and gradient norm: \n",
      "\t\t2.608E-03   and   2.537E+02 \t[ momenta ]\n",
      "------------------------------------- Iteration: 7 -------------------------------------\n",
      ">> Log-likelihood = -5.189E+03 \t [ attachment = -5.144E+03 ; regularity = -4.530E+01 ]\n",
      ">> Step size and gradient norm: \n",
      "\t\t3.912E-03   and   2.983E+02 \t[ momenta ]\n",
      ">> Step size and gradient norm: \n",
      "\t\t1.956E-03   and   2.983E+02 \t[ momenta ]\n",
      "------------------------------------- Iteration: 8 -------------------------------------\n",
      ">> Log-likelihood = -5.127E+03 \t [ attachment = -5.078E+03 ; regularity = -4.905E+01 ]\n",
      ">> Step size and gradient norm: \n",
      "\t\t2.934E-03   and   2.373E+02 \t[ momenta ]\n",
      "------------------------------------- Iteration: 9 -------------------------------------\n",
      ">> Log-likelihood = -5.095E+03 \t [ attachment = -5.039E+03 ; regularity = -5.672E+01 ]\n",
      ">> Step size and gradient norm: \n",
      "\t\t4.401E-03   and   3.285E+02 \t[ momenta ]\n",
      ">> Step size and gradient norm: \n",
      "\t\t2.201E-03   and   3.285E+02 \t[ momenta ]\n",
      "------------------------------------- Iteration: 10 -------------------------------------\n",
      ">> Log-likelihood = -5.047E+03 \t [ attachment = -4.986E+03 ; regularity = -6.097E+01 ]\n",
      ">> Step size and gradient norm: \n",
      "\t\t3.301E-03   and   3.122E+02 \t[ momenta ]\n",
      ">> Step size and gradient norm: \n",
      "\t\t1.650E-03   and   3.122E+02 \t[ momenta ]\n",
      "------------------------------------- Iteration: 11 -------------------------------------\n",
      ">> Log-likelihood = -4.981E+03 \t [ attachment = -4.916E+03 ; regularity = -6.512E+01 ]\n",
      ">> Step size and gradient norm: \n",
      "\t\t2.476E-03   and   1.863E+02 \t[ momenta ]\n",
      "------------------------------------- Iteration: 12 -------------------------------------\n",
      ">> Log-likelihood = -4.941E+03 \t [ attachment = -4.871E+03 ; regularity = -7.050E+01 ]\n",
      ">> Step size and gradient norm: \n",
      "\t\t3.714E-03   and   2.015E+02 \t[ momenta ]\n",
      "------------------------------------- Iteration: 13 -------------------------------------\n",
      ">> Log-likelihood = -4.936E+03 \t [ attachment = -4.856E+03 ; regularity = -8.052E+01 ]\n",
      ">> Step size and gradient norm: \n",
      "\t\t5.570E-03   and   3.728E+02 \t[ momenta ]\n",
      ">> Step size and gradient norm: \n",
      "\t\t2.785E-03   and   3.728E+02 \t[ momenta ]\n",
      ">> Step size and gradient norm: \n",
      "\t\t1.393E-03   and   3.728E+02 \t[ momenta ]\n",
      "------------------------------------- Iteration: 14 -------------------------------------\n",
      ">> Log-likelihood = -4.849E+03 \t [ attachment = -4.766E+03 ; regularity = -8.249E+01 ]\n",
      ">> Step size and gradient norm: \n",
      "\t\t2.089E-03   and   1.469E+02 \t[ momenta ]\n",
      "------------------------------------- Iteration: 15 -------------------------------------\n",
      ">> Log-likelihood = -4.817E+03 \t [ attachment = -4.729E+03 ; regularity = -8.757E+01 ]\n",
      ">> Step size and gradient norm: \n",
      "\t\t3.133E-03   and   1.381E+02 \t[ momenta ]\n",
      "------------------------------------- Iteration: 16 -------------------------------------\n",
      ">> Log-likelihood = -4.778E+03 \t [ attachment = -4.683E+03 ; regularity = -9.452E+01 ]\n",
      ">> Step size and gradient norm: \n",
      "\t\t4.700E-03   and   1.681E+02 \t[ momenta ]\n",
      ">> Step size and gradient norm: \n",
      "\t\t2.350E-03   and   1.681E+02 \t[ momenta ]\n",
      "------------------------------------- Iteration: 17 -------------------------------------\n",
      ">> Log-likelihood = -4.748E+03 \t [ attachment = -4.648E+03 ; regularity = -1.004E+02 ]\n",
      ">> Step size and gradient norm: \n",
      "\t\t3.525E-03   and   1.734E+02 \t[ momenta ]\n",
      "------------------------------------- Iteration: 18 -------------------------------------\n",
      ">> Log-likelihood = -4.738E+03 \t [ attachment = -4.630E+03 ; regularity = -1.079E+02 ]\n",
      ">> Step size and gradient norm: \n",
      "\t\t5.287E-03   and   2.992E+02 \t[ momenta ]\n",
      ">> Step size and gradient norm: \n",
      "\t\t2.644E-03   and   2.992E+02 \t[ momenta ]\n",
      ">> Step size and gradient norm: \n",
      "\t\t1.322E-03   and   2.992E+02 \t[ momenta ]\n",
      "------------------------------------- Iteration: 19 -------------------------------------\n",
      ">> Log-likelihood = -4.680E+03 \t [ attachment = -4.568E+03 ; regularity = -1.112E+02 ]\n",
      ">> Step size and gradient norm: \n",
      "\t\t1.983E-03   and   1.180E+02 \t[ momenta ]\n",
      "------------------------------------- Iteration: 20 -------------------------------------\n",
      ">> Log-likelihood = -4.656E+03 \t [ attachment = -4.541E+03 ; regularity = -1.154E+02 ]\n",
      ">> Step size and gradient norm: \n",
      "\t\t2.974E-03   and   1.119E+02 \t[ momenta ]\n",
      "------------------------------------- Iteration: 21 -------------------------------------\n",
      ">> Log-likelihood = -4.624E+03 \t [ attachment = -4.502E+03 ; regularity = -1.222E+02 ]\n",
      ">> Step size and gradient norm: \n",
      "\t\t4.461E-03   and   1.186E+02 \t[ momenta ]\n",
      "------------------------------------- Iteration: 22 -------------------------------------\n",
      ">> Log-likelihood = -4.592E+03 \t [ attachment = -4.461E+03 ; regularity = -1.317E+02 ]\n",
      ">> Step size and gradient norm: \n",
      "\t\t6.692E-03   and   1.988E+02 \t[ momenta ]\n",
      ">> Step size and gradient norm: \n",
      "\t\t3.346E-03   and   1.988E+02 \t[ momenta ]\n",
      ">> Step size and gradient norm: \n",
      "\t\t1.673E-03   and   1.988E+02 \t[ momenta ]\n",
      "------------------------------------- Iteration: 23 -------------------------------------\n",
      ">> Log-likelihood = -4.563E+03 \t [ attachment = -4.428E+03 ; regularity = -1.357E+02 ]\n",
      ">> Step size and gradient norm: \n",
      "\t\t2.509E-03   and   1.283E+02 \t[ momenta ]\n",
      "------------------------------------- Iteration: 24 -------------------------------------\n",
      ">> Log-likelihood = -4.541E+03 \t [ attachment = -4.401E+03 ; regularity = -1.407E+02 ]\n",
      ">> Step size and gradient norm: \n",
      "\t\t3.764E-03   and   1.394E+02 \t[ momenta ]\n",
      "------------------------------------- Iteration: 25 -------------------------------------\n",
      ">> Log-likelihood = -4.533E+03 \t [ attachment = -4.383E+03 ; regularity = -1.497E+02 ]\n",
      ">> Estimation took: 03 minutes and 48 seconds\n",
      "Logger has been set to: INFO\n",
      ">> No initial CP spacing given: using diffeo kernel width of 40.0\n",
      "OMP_NUM_THREADS was not found in environment variables. An automatic value will be set.\n",
      "OMP_NUM_THREADS will be set to 4\n",
      "context has already been set\n",
      ">> No specified state-file. By default, Deformetrica state will by saved in file: /home/fmatzkin/Code/datasets/cq500/converted/selected/test/preprocessed_ct_to_skull/cran/def/meshes/decimated/reg_CQ500-CT-405_CT Thin Plain_0_sim_decimated_1perc/deformetrica-state.p.\n",
      ">> Set of 80 control points defined.\n",
      ">> Momenta initialized to zero, for 1 subjects.\n",
      ">> Started estimator: GradientAscent\n",
      "------------------------------------- Iteration: 0 -------------------------------------\n",
      ">> Log-likelihood = -5.756E+04 \t [ attachment = -5.756E+04 ; regularity = 0.000E+00 ]\n",
      ">> Step size and gradient norm: \n",
      "\t\t2.373E-04   and   4.214E+03 \t[ momenta ]\n",
      "------------------------------------- Iteration: 1 -------------------------------------\n",
      ">> Log-likelihood = -5.351E+04 \t [ attachment = -5.351E+04 ; regularity = -3.119E+00 ]\n",
      ">> Step size and gradient norm: \n",
      "\t\t3.560E-04   and   3.881E+03 \t[ momenta ]\n",
      "------------------------------------- Iteration: 2 -------------------------------------\n",
      ">> Log-likelihood = -4.848E+04 \t [ attachment = -4.846E+04 ; regularity = -1.761E+01 ]\n",
      ">> Step size and gradient norm: \n",
      "\t\t5.340E-04   and   3.417E+03 \t[ momenta ]\n",
      "------------------------------------- Iteration: 3 -------------------------------------\n",
      ">> Log-likelihood = -4.280E+04 \t [ attachment = -4.275E+04 ; regularity = -5.445E+01 ]\n",
      ">> Step size and gradient norm: \n",
      "\t\t8.010E-04   and   2.815E+03 \t[ momenta ]\n",
      "------------------------------------- Iteration: 4 -------------------------------------\n",
      ">> Log-likelihood = -3.726E+04 \t [ attachment = -3.713E+04 ; regularity = -1.263E+02 ]\n",
      ">> Step size and gradient norm: \n",
      "\t\t1.201E-03   and   2.139E+03 \t[ momenta ]\n",
      "------------------------------------- Iteration: 5 -------------------------------------\n",
      ">> Log-likelihood = -3.263E+04 \t [ attachment = -3.239E+04 ; regularity = -2.380E+02 ]\n",
      ">> Step size and gradient norm: \n",
      "\t\t1.802E-03   and   1.526E+03 \t[ momenta ]\n",
      "------------------------------------- Iteration: 6 -------------------------------------\n",
      ">> Log-likelihood = -2.913E+04 \t [ attachment = -2.876E+04 ; regularity = -3.776E+02 ]\n",
      ">> Step size and gradient norm: \n",
      "\t\t2.703E-03   and   1.084E+03 \t[ momenta ]\n",
      "------------------------------------- Iteration: 7 -------------------------------------\n",
      ">> Log-likelihood = -2.643E+04 \t [ attachment = -2.590E+04 ; regularity = -5.282E+02 ]\n",
      ">> Step size and gradient norm: \n",
      "\t\t4.055E-03   and   8.127E+02 \t[ momenta ]\n",
      "------------------------------------- Iteration: 8 -------------------------------------\n",
      ">> Log-likelihood = -2.408E+04 \t [ attachment = -2.339E+04 ; regularity = -6.930E+02 ]\n",
      ">> Step size and gradient norm: \n",
      "\t\t6.082E-03   and   6.434E+02 \t[ momenta ]\n",
      "------------------------------------- Iteration: 9 -------------------------------------\n",
      ">> Log-likelihood = -2.185E+04 \t [ attachment = -2.097E+04 ; regularity = -8.830E+02 ]\n",
      ">> Step size and gradient norm: \n",
      "\t\t9.123E-03   and   5.281E+02 \t[ momenta ]\n",
      "------------------------------------- Iteration: 10 -------------------------------------\n",
      ">> Log-likelihood = -1.991E+04 \t [ attachment = -1.874E+04 ; regularity = -1.171E+03 ]\n",
      ">> Step size and gradient norm: \n",
      "\t\t1.369E-02   and   6.988E+02 \t[ momenta ]\n",
      ">> Step size and gradient norm: \n",
      "\t\t6.843E-03   and   6.988E+02 \t[ momenta ]\n",
      ">> Step size and gradient norm: \n",
      "\t\t3.421E-03   and   6.988E+02 \t[ momenta ]\n",
      "------------------------------------- Iteration: 11 -------------------------------------\n",
      ">> Log-likelihood = -1.958E+04 \t [ attachment = -1.838E+04 ; regularity = -1.194E+03 ]\n",
      ">> Step size and gradient norm: \n",
      "\t\t5.132E-03   and   9.026E+02 \t[ momenta ]\n",
      ">> Step size and gradient norm: \n",
      "\t\t2.566E-03   and   9.026E+02 \t[ momenta ]\n",
      "------------------------------------- Iteration: 12 -------------------------------------\n",
      ">> Log-likelihood = -1.915E+04 \t [ attachment = -1.785E+04 ; regularity = -1.300E+03 ]\n",
      ">> Step size and gradient norm: \n",
      "\t\t3.849E-03   and   8.809E+02 \t[ momenta ]\n",
      ">> Step size and gradient norm: \n",
      "\t\t1.924E-03   and   8.809E+02 \t[ momenta ]\n",
      "------------------------------------- Iteration: 13 -------------------------------------\n",
      ">> Log-likelihood = -1.864E+04 \t [ attachment = -1.733E+04 ; regularity = -1.312E+03 ]\n",
      ">> Step size and gradient norm: \n",
      "\t\t2.887E-03   and   6.093E+02 \t[ momenta ]\n",
      "------------------------------------- Iteration: 14 -------------------------------------\n",
      ">> Log-likelihood = -1.847E+04 \t [ attachment = -1.709E+04 ; regularity = -1.386E+03 ]\n",
      ">> Step size and gradient norm: \n",
      "\t\t4.330E-03   and   8.299E+02 \t[ momenta ]\n",
      ">> Step size and gradient norm: \n",
      "\t\t2.165E-03   and   8.299E+02 \t[ momenta ]\n",
      "------------------------------------- Iteration: 15 -------------------------------------\n",
      ">> Log-likelihood = -1.817E+04 \t [ attachment = -1.675E+04 ; regularity = -1.421E+03 ]\n",
      ">> Step size and gradient norm: \n",
      "\t\t3.248E-03   and   7.613E+02 \t[ momenta ]\n",
      ">> Step size and gradient norm: \n",
      "\t\t1.624E-03   and   7.613E+02 \t[ momenta ]\n",
      "------------------------------------- Iteration: 16 -------------------------------------\n",
      ">> Log-likelihood = -1.778E+04 \t [ attachment = -1.633E+04 ; regularity = -1.456E+03 ]\n",
      ">> Step size and gradient norm: \n",
      "\t\t2.436E-03   and   4.347E+02 \t[ momenta ]\n",
      "------------------------------------- Iteration: 17 -------------------------------------\n",
      ">> Log-likelihood = -1.756E+04 \t [ attachment = -1.606E+04 ; regularity = -1.504E+03 ]\n",
      ">> Step size and gradient norm: \n",
      "\t\t3.653E-03   and   4.589E+02 \t[ momenta ]\n",
      "------------------------------------- Iteration: 18 -------------------------------------\n",
      ">> Log-likelihood = -1.749E+04 \t [ attachment = -1.591E+04 ; regularity = -1.580E+03 ]\n",
      ">> Step size and gradient norm: \n",
      "\t\t5.480E-03   and   8.167E+02 \t[ momenta ]\n",
      ">> Step size and gradient norm: \n",
      "\t\t2.740E-03   and   8.167E+02 \t[ momenta ]\n",
      ">> Step size and gradient norm: \n",
      "\t\t1.370E-03   and   8.167E+02 \t[ momenta ]\n",
      "------------------------------------- Iteration: 19 -------------------------------------\n",
      ">> Log-likelihood = -1.706E+04 \t [ attachment = -1.546E+04 ; regularity = -1.602E+03 ]\n",
      ">> Step size and gradient norm: \n",
      "\t\t2.055E-03   and   3.263E+02 \t[ momenta ]\n",
      "------------------------------------- Iteration: 20 -------------------------------------\n",
      ">> Log-likelihood = -1.690E+04 \t [ attachment = -1.526E+04 ; regularity = -1.641E+03 ]\n",
      ">> Step size and gradient norm: \n",
      "\t\t3.083E-03   and   3.051E+02 \t[ momenta ]\n",
      "------------------------------------- Iteration: 21 -------------------------------------\n",
      ">> Log-likelihood = -1.669E+04 \t [ attachment = -1.499E+04 ; regularity = -1.697E+03 ]\n",
      ">> Step size and gradient norm: \n",
      "\t\t4.624E-03   and   3.480E+02 \t[ momenta ]\n",
      "------------------------------------- Iteration: 22 -------------------------------------\n",
      ">> Log-likelihood = -1.663E+04 \t [ attachment = -1.484E+04 ; regularity = -1.784E+03 ]\n",
      ">> Step size and gradient norm: \n",
      "\t\t6.936E-03   and   7.442E+02 \t[ momenta ]\n",
      ">> Step size and gradient norm: \n",
      "\t\t3.468E-03   and   7.442E+02 \t[ momenta ]\n",
      ">> Step size and gradient norm: \n",
      "\t\t1.734E-03   and   7.442E+02 \t[ momenta ]\n",
      "------------------------------------- Iteration: 23 -------------------------------------\n",
      ">> Log-likelihood = -1.632E+04 \t [ attachment = -1.451E+04 ; regularity = -1.810E+03 ]\n",
      ">> Step size and gradient norm: \n",
      "\t\t2.601E-03   and   4.444E+02 \t[ momenta ]\n",
      "------------------------------------- Iteration: 24 -------------------------------------\n",
      ">> Log-likelihood = -1.623E+04 \t [ attachment = -1.437E+04 ; regularity = -1.855E+03 ]\n",
      ">> Step size and gradient norm: \n",
      "\t\t3.901E-03   and   5.368E+02 \t[ momenta ]\n",
      ">> Step size and gradient norm: \n",
      "\t\t1.951E-03   and   5.368E+02 \t[ momenta ]\n",
      "------------------------------------- Iteration: 25 -------------------------------------\n",
      ">> Log-likelihood = -1.606E+04 \t [ attachment = -1.417E+04 ; regularity = -1.885E+03 ]\n",
      ">> Estimation took: 03 minutes and 38 seconds\n"
     ]
    }
   ],
   "source": [
    "defect_imgs = '/home/fmatzkin/Code/datasets/cq500/converted/selected/test/preprocessed_ct_to_skull/cran/def/meshes/decimated/'\n",
    "cran_paths = [os.path.join(defect_imgs, f) for f in os.listdir(defect_imgs)\n",
    "              if f.endswith('.vtk')]\n",
    "template_path = decimated_meshes[0]  # Preprocessed + dmtd complete skull (312)\n",
    "\n",
    "for fixed_path in cran_paths:\n",
    "    out_path = os.path.join(defect_imgs, 'reg_' +\n",
    "                            os.path.splitext(os.path.split(fixed_path)[1])[0]\n",
    "                            )\n",
    "    estimate_registration(template_path, [fixed_path], out_path)"
   ],
   "metadata": {
    "collapsed": false
   }
  },
  {
   "cell_type": "markdown",
   "source": [
    "### Convert to stl\n",
    "Needed for pymesh"
   ],
   "metadata": {
    "collapsed": false
   }
  },
  {
   "cell_type": "code",
   "execution_count": 20,
   "outputs": [
    {
     "name": "stdout",
     "output_type": "stream",
     "text": [
      "Creating /home/fmatzkin/Code/datasets/cq500/converted/selected/test/preprocessed_ct_to_skull/cran/def/meshes/decimated/reg_CQ500-CT-312_CT PRE CONTRAST THIN_0_sim_decimated_1perc/DeterministicAtlas__Reconstruction__skull__subject_CQ500-CT-312_CT PRE CONTRAST THIN_0_sim_decimated_1perc.stl\n",
      "Creating /home/fmatzkin/Code/datasets/cq500/converted/selected/test/preprocessed_ct_to_skull/cran/def/meshes/decimated/reg_CQ500-CT-405_CT Thin Plain_0_sim_decimated_1perc/DeterministicAtlas__Reconstruction__skull__subject_CQ500-CT-405_CT Thin Plain_0_sim_decimated_1perc.stl\n",
      "Creating /home/fmatzkin/Code/datasets/cq500/converted/selected/test/preprocessed_ct_to_skull/cran/def/meshes/decimated/CQ500-CT-312_CT PRE CONTRAST THIN_0_sim_decimated_1perc.stl\n",
      "Creating /home/fmatzkin/Code/datasets/cq500/converted/selected/test/preprocessed_ct_to_skull/cran/def/meshes/decimated/CQ500-CT-405_CT Thin Plain_0_sim_decimated_1perc.stl\n"
     ]
    }
   ],
   "source": [
    "import vtk\n",
    "\n",
    "def vtk_to_stl(filepath, outfile):\n",
    "    if os.path.isfile(filepath):\n",
    "        print(f\"Creating {outfile}\")\n",
    "        reader = vtk.vtkGenericDataObjectReader()\n",
    "        reader.SetFileName(filepath)\n",
    "        reader.Update()\n",
    "        writer = vtk.vtkSTLWriter()\n",
    "        writer.SetInputConnection(reader.GetOutputPort())\n",
    "        writer.SetFileName(outfile)\n",
    "        return writer.Write()==1\n",
    "    return False\n",
    "\n",
    "files = [\n",
    "    '/home/fmatzkin/Code/datasets/cq500/converted/selected/test/preprocessed_ct_to_skull/cran/def/meshes/decimated/reg_CQ500-CT-312_CT PRE CONTRAST THIN_0_sim_decimated_1perc/DeterministicAtlas__Reconstruction__skull__subject_CQ500-CT-312_CT PRE CONTRAST THIN_0_sim_decimated_1perc.vtk',\n",
    "    '/home/fmatzkin/Code/datasets/cq500/converted/selected/test/preprocessed_ct_to_skull/cran/def/meshes/decimated/reg_CQ500-CT-405_CT Thin Plain_0_sim_decimated_1perc/DeterministicAtlas__Reconstruction__skull__subject_CQ500-CT-405_CT Thin Plain_0_sim_decimated_1perc.vtk',\n",
    "    '/home/fmatzkin/Code/datasets/cq500/converted/selected/test/preprocessed_ct_to_skull/cran/def/meshes/decimated/CQ500-CT-312_CT PRE CONTRAST THIN_0_sim_decimated_1perc.vtk',\n",
    "    '/home/fmatzkin/Code/datasets/cq500/converted/selected/test/preprocessed_ct_to_skull/cran/def/meshes/decimated/CQ500-CT-405_CT Thin Plain_0_sim_decimated_1perc.vtk'\n",
    "]\n",
    "\n",
    "stl_registered = [f.replace('.vtk', '.stl') for f in files]\n",
    "\n",
    "for file in files:\n",
    "    out_dir = file.replace('.vtk', '.stl')\n",
    "    vtk_to_stl(file, out_dir)"
   ],
   "metadata": {
    "collapsed": false
   }
  },
  {
   "cell_type": "markdown",
   "source": [
    "### Difference\n",
    "Difference of the transformed template mesh with the craniectomy mesh"
   ],
   "metadata": {
    "collapsed": false
   }
  },
  {
   "cell_type": "code",
   "execution_count": 24,
   "outputs": [],
   "source": [
    "import trimesh\n",
    "cran = trimesh.load_mesh(craniect_imgs[0])\n",
    "\n",
    "craniect_imgs = ['/home/fmatzkin/Code/datasets/cq500/converted/selected/test/preprocessed_ct_to_skull/cran/def/meshes/decimated/CQ500-CT-312_CT PRE CONTRAST THIN_0_sim_decimated_1perc.stl',\n",
    "                 '/home/fmatzkin/Code/datasets/cq500/converted/selected/test/preprocessed_ct_to_skull/cran/def/meshes/decimated/CQ500-CT-405_CT Thin Plain_0_sim_decimated_1perc.stl']\n",
    "\n",
    "cran = stl.Stl(craniect_imgs[0])  # craniect orig mesh\n",
    "tempreg = stl.Stl(files[0])  # registered template mesh\n",
    "\n",
    "output_mesh = pymesh.boolean(tempreg, cran, operation=\"difference\", engine=\"igl\")\n",
    "pymesh.save_mesh(\"312-diff.stl\", output_mesh)"
   ],
   "metadata": {
    "collapsed": false
   }
  }
 ],
 "metadata": {
  "kernelspec": {
   "display_name": "Python 3 (ipykernel)",
   "language": "python",
   "name": "python3"
  },
  "language_info": {
   "codemirror_mode": {
    "name": "ipython",
    "version": 3
   },
   "file_extension": ".py",
   "mimetype": "text/x-python",
   "name": "python",
   "nbconvert_exporter": "python",
   "pygments_lexer": "ipython3",
   "version": "3.8.13"
  },
  "vscode": {
   "interpreter": {
    "hash": "159c917228f05416d9b819fe32ed20dc8363f68fb18cb83ee7ae4737bd8f0b32"
   }
  }
 },
 "nbformat": 4,
 "nbformat_minor": 4
}
