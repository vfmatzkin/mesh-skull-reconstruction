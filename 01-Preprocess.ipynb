{
 "cells": [
  {
   "cell_type": "markdown",
   "metadata": {
    "pycharm": {
     "name": "#%% md\n"
    }
   },
   "source": [
    "# Preprocess the data"
   ]
  },
  {
   "cell_type": "markdown",
   "metadata": {
    "pycharm": {
     "name": "#%% md\n"
    }
   },
   "source": [
    "## Rigid registration and skull extraction"
   ]
  },
  {
   "cell_type": "code",
   "execution_count": 1,
   "metadata": {
    "jupyter": {
     "outputs_hidden": false
    },
    "pycharm": {
     "name": "#%%\n"
    }
   },
   "outputs": [],
   "source": [
    "import os\n",
    "from os.path import expanduser as eu\n",
    "from headctools.registration import register_file_folder\n",
    "from headctools.preprocessing import ct_skull, utils"
   ]
  },
  {
   "cell_type": "code",
   "execution_count": 3,
   "metadata": {
    "pycharm": {
     "name": "#%%\n"
    }
   },
   "outputs": [
    {
     "name": "stdout",
     "output_type": "stream",
     "text": [
      "Getting nii.gz images from /home/franco/Code/datasets/cq500/converted/selected/test\n",
      "Found 5 images\n",
      " No save path specified. Using default save path.\n",
      "Preprocessing {'image': '/home/franco/Code/datasets/cq500/converted/selected/test/CQ500-CT-216_CT 0.625mm.nii.gz'}\n",
      "  File /home/franco/Code/datasets/cq500/converted/selected/test/preprocessed_ct_to_skull/CQ500-CT-216_CT 0.625mm.nii.gz already exists..\n",
      "Preprocessing {'image': '/home/franco/Code/datasets/cq500/converted/selected/test/CQ500-CT-390_CT 5mm POST CONTRAST.nii.gz'}\n",
      "  File /home/franco/Code/datasets/cq500/converted/selected/test/preprocessed_ct_to_skull/CQ500-CT-390_CT 5mm POST CONTRAST.nii.gz already exists..\n",
      "Preprocessing {'image': '/home/franco/Code/datasets/cq500/converted/selected/test/CQ500-CT-312_CT PRE CONTRAST THIN.nii.gz'}\n",
      "  File /home/franco/Code/datasets/cq500/converted/selected/test/preprocessed_ct_to_skull/CQ500-CT-312_CT PRE CONTRAST THIN.nii.gz already exists..\n",
      "Preprocessing {'image': '/home/franco/Code/datasets/cq500/converted/selected/test/CQ500-CT-405_CT Thin Plain.nii.gz'}\n",
      "  File /home/franco/Code/datasets/cq500/converted/selected/test/preprocessed_ct_to_skull/CQ500-CT-405_CT Thin Plain.nii.gz already exists..\n",
      "Preprocessing {'image': '/home/franco/Code/datasets/cq500/converted/selected/test/CQ500-CT-184_CT Thin Plain.nii.gz'}\n",
      "  File /home/franco/Code/datasets/cq500/converted/selected/test/preprocessed_ct_to_skull/CQ500-CT-184_CT Thin Plain.nii.gz already exists..\n",
      "  Saved images in /home/franco/Code/datasets/cq500/converted/selected/test/preprocessed_ct_to_skull\n"
     ]
    },
    {
     "data": {
      "text/plain": "'/home/franco/Code/datasets/cq500/converted/selected/test/preprocessed_ct_to_skull'"
     },
     "execution_count": 3,
     "metadata": {},
     "output_type": "execute_result"
    }
   ],
   "source": [
    "imgs = eu('~/Code/datasets/cq500/converted/selected/test')\n",
    "fixed_img = os.path.join(imgs, 'CQ500-CT-312_CT PRE CONTRAST THIN.nii.gz')\n",
    "# Registered images will be saved in a subfolder with the name of the fixed img\n",
    "\n",
    "params = {'reg_atlas_path': fixed_img,\n",
    "          'overwrite_images': False,\n",
    "          # 'skip_registration': True  # Non-default params\n",
    "          }\n",
    "\n",
    "ct_skull(imgs, params = params)  # Preprocess the imgs"
   ]
  },
  {
   "cell_type": "markdown",
   "metadata": {
    "pycharm": {
     "name": "#%% md\n"
    }
   },
   "source": [
    "## Mesh atlas construction"
   ]
  },
  {
   "cell_type": "markdown",
   "metadata": {
    "pycharm": {
     "name": "#%% md\n"
    }
   },
   "source": [
    "### Decimate meshes"
   ]
  },
  {
   "cell_type": "code",
   "execution_count": 2,
   "metadata": {
    "pycharm": {
     "name": "#%%\n"
    }
   },
   "outputs": [
    {
     "name": "stdout",
     "output_type": "stream",
     "text": [
      "Decimating meshes...\n",
      "  Input folder: /home/franco/Code/datasets/cq500/converted/selected/test/preprocessed_ct_to_skull\n",
      "  Found 5 meshes\n",
      "    [1/5] Input mesh: CQ500-CT-390_CT 5mm POST CONTRAST.stl\n",
      "    Mesh already exists, skipping...\n",
      "    [2/5] Input mesh: CQ500-CT-312_CT PRE CONTRAST THIN.stl\n",
      "    Mesh already exists, skipping...\n",
      "    [3/5] Input mesh: CQ500-CT-405_CT Thin Plain.stl\n",
      "    Mesh already exists, skipping...\n",
      "    [4/5] Input mesh: CQ500-CT-216_CT 0.625mm.stl\n",
      "    Mesh already exists, skipping...\n",
      "    [5/5] Input mesh: CQ500-CT-184_CT Thin Plain.stl\n",
      "    Mesh already exists, skipping...\n"
     ]
    }
   ],
   "source": [
    "meshes_folder = '~/Code/datasets/cq500/converted/selected/test/preprocessed_ct_to_skull'\n",
    "decimate_factor = 0.01\n",
    "saved_meshes = utils.decimate_meshes(meshes_folder, decimate_factor,\n",
    "                                     overwrite=False)"
   ]
  },
  {
   "cell_type": "markdown",
   "metadata": {
    "pycharm": {
     "name": "#%% md\n"
    }
   },
   "source": [
    "## Deformetrica\n",
    "### Atlas estimation"
   ]
  },
  {
   "cell_type": "code",
   "execution_count": 3,
   "metadata": {
    "pycharm": {
     "name": "#%%\n"
    }
   },
   "outputs": [],
   "source": [
    "from src.deformetrica import estimate_atlas, estimate_registration\n",
    "template_path, dataset_paths = saved_meshes[0], saved_meshes[1:]"
   ]
  },
  {
   "cell_type": "code",
   "execution_count": 4,
   "outputs": [
    {
     "name": "stdout",
     "output_type": "stream",
     "text": [
      "Logger has been set to: INFO\n",
      ">> No initial CP spacing given: using diffeo kernel width of 40.0\n",
      "OMP_NUM_THREADS was not found in environment variables. An automatic value will be set.\n",
      "OMP_NUM_THREADS will be set to 2\n",
      ">> No specified state-file. By default, Deformetrica state will by saved in file: output/deformetrica-state.p.\n",
      ">> Set of 80 control points defined.\n",
      ">> Momenta initialized to zero, for 4 subjects.\n",
      ">> Started estimator: GradientAscent\n"
     ]
    },
    {
     "name": "stderr",
     "output_type": "stream",
     "text": [
      "/home/franco/anaconda3/envs/msr/lib/python3.8/site-packages/deformetrica/core/observations/deformable_objects/landmarks/surface_mesh.py:37: UserWarning:\n",
      "\n",
      "This overload of nonzero is deprecated:\n",
      "\tnonzero(Tensor input, *, Tensor out)\n",
      "Consider using one of the following signatures instead:\n",
      "\tnonzero(Tensor input, *, bool as_tuple) (Triggered internally at  /pytorch/torch/csrc/utils/python_arg_parser.cpp:766.)\n",
      "\n"
     ]
    },
    {
     "name": "stdout",
     "output_type": "stream",
     "text": [
      "------------------------------------- Iteration: 0 -------------------------------------\n",
      ">> Log-likelihood = -4.609E+05 \t [ attachment = -4.609E+05 ; regularity = 0.000E+00 ]\n",
      ">> Step size and gradient norm: \n",
      "\t\t3.349E-06   and   2.986E+05 \t[ landmark_points ]\n",
      "\t\t6.220E-05   and   1.608E+04 \t[ momenta ]\n",
      "------------------------------------- Iteration: 1 -------------------------------------\n",
      ">> Log-likelihood = -4.439E+05 \t [ attachment = -4.439E+05 ; regularity = -3.107E+00 ]\n",
      ">> Step size and gradient norm: \n",
      "\t\t5.024E-06   and   2.927E+05 \t[ landmark_points ]\n",
      "\t\t9.330E-05   and   1.577E+04 \t[ momenta ]\n",
      "------------------------------------- Iteration: 2 -------------------------------------\n",
      ">> Log-likelihood = -4.195E+05 \t [ attachment = -4.195E+05 ; regularity = -1.895E+01 ]\n",
      ">> Step size and gradient norm: \n",
      "\t\t7.536E-06   and   2.833E+05 \t[ landmark_points ]\n",
      "\t\t1.400E-04   and   1.527E+04 \t[ momenta ]\n",
      "------------------------------------- Iteration: 3 -------------------------------------\n",
      ">> Log-likelihood = -3.855E+05 \t [ attachment = -3.854E+05 ; regularity = -6.580E+01 ]\n",
      ">> Step size and gradient norm: \n",
      "\t\t1.130E-05   and   2.683E+05 \t[ landmark_points ]\n",
      "\t\t2.099E-04   and   1.446E+04 \t[ momenta ]\n",
      "------------------------------------- Iteration: 4 -------------------------------------\n",
      ">> Log-likelihood = -3.406E+05 \t [ attachment = -3.404E+05 ; regularity = -1.805E+02 ]\n",
      ">> Step size and gradient norm: \n",
      "\t\t1.696E-05   and   2.445E+05 \t[ landmark_points ]\n",
      "\t\t3.149E-04   and   1.317E+04 \t[ momenta ]\n",
      "------------------------------------- Iteration: 5 -------------------------------------\n",
      ">> Log-likelihood = -2.865E+05 \t [ attachment = -2.861E+05 ; regularity = -4.269E+02 ]\n",
      ">> Step size and gradient norm: \n",
      "\t\t2.543E-05   and   2.092E+05 \t[ landmark_points ]\n",
      "\t\t4.724E-04   and   1.125E+04 \t[ momenta ]\n",
      "------------------------------------- Iteration: 6 -------------------------------------\n",
      ">> Log-likelihood = -2.299E+05 \t [ attachment = -2.290E+05 ; regularity = -8.861E+02 ]\n",
      ">> Step size and gradient norm: \n",
      "\t\t3.815E-05   and   1.638E+05 \t[ landmark_points ]\n",
      "\t\t7.085E-04   and   8.829E+03 \t[ momenta ]\n",
      "------------------------------------- Iteration: 7 -------------------------------------\n",
      ">> Log-likelihood = -1.798E+05 \t [ attachment = -1.782E+05 ; regularity = -1.602E+03 ]\n",
      ">> Step size and gradient norm: \n",
      "\t\t5.723E-05   and   1.171E+05 \t[ landmark_points ]\n",
      "\t\t1.063E-03   and   6.393E+03 \t[ momenta ]\n",
      "------------------------------------- Iteration: 8 -------------------------------------\n",
      ">> Log-likelihood = -1.419E+05 \t [ attachment = -1.394E+05 ; regularity = -2.518E+03 ]\n",
      ">> Step size and gradient norm: \n",
      "\t\t8.584E-05   and   7.627E+04 \t[ landmark_points ]\n",
      "\t\t1.594E-03   and   4.259E+03 \t[ momenta ]\n",
      "------------------------------------- Iteration: 9 -------------------------------------\n",
      ">> Log-likelihood = -1.172E+05 \t [ attachment = -1.137E+05 ; regularity = -3.485E+03 ]\n",
      ">> Step size and gradient norm: \n",
      "\t\t1.288E-04   and   4.585E+04 \t[ landmark_points ]\n",
      "\t\t2.391E-03   and   2.736E+03 \t[ momenta ]\n",
      "------------------------------------- Iteration: 10 -------------------------------------\n",
      ">> Log-likelihood = -1.009E+05 \t [ attachment = -9.665E+04 ; regularity = -4.284E+03 ]\n",
      ">> Step size and gradient norm: \n",
      "\t\t1.931E-04   and   2.972E+04 \t[ landmark_points ]\n",
      "\t\t3.587E-03   and   1.933E+03 \t[ momenta ]\n",
      "------------------------------------- Iteration: 11 -------------------------------------\n",
      ">> Log-likelihood = -8.812E+04 \t [ attachment = -8.326E+04 ; regularity = -4.860E+03 ]\n",
      ">> Step size and gradient norm: \n",
      "\t\t2.897E-04   and   2.347E+04 \t[ landmark_points ]\n",
      "\t\t5.380E-03   and   1.572E+03 \t[ momenta ]\n",
      "------------------------------------- Iteration: 12 -------------------------------------\n",
      ">> Log-likelihood = -8.381E+04 \t [ attachment = -7.811E+04 ; regularity = -5.703E+03 ]\n",
      ">> Step size and gradient norm: \n",
      "\t\t4.346E-04   and   5.832E+04 \t[ landmark_points ]\n",
      "\t\t8.071E-03   and   4.024E+03 \t[ momenta ]\n",
      ">> Step size and gradient norm: \n",
      "\t\t2.173E-04   and   5.832E+04 \t[ landmark_points ]\n",
      "\t\t4.035E-03   and   4.024E+03 \t[ momenta ]\n",
      ">> Step size and gradient norm: \n",
      "\t\t1.086E-04   and   5.832E+04 \t[ landmark_points ]\n",
      "\t\t2.018E-03   and   4.024E+03 \t[ momenta ]\n",
      "------------------------------------- Iteration: 13 -------------------------------------\n",
      ">> Log-likelihood = -7.634E+04 \t [ attachment = -7.077E+04 ; regularity = -5.568E+03 ]\n",
      ">> Step size and gradient norm: \n",
      "\t\t1.086E-04   and   2.494E+04 \t[ landmark_points ]\n",
      "\t\t1.009E-03   and   1.535E+03 \t[ momenta ]\n",
      "------------------------------------- Iteration: 14 -------------------------------------\n",
      ">> Log-likelihood = -7.447E+04 \t [ attachment = -6.875E+04 ; regularity = -5.720E+03 ]\n",
      ">> Step size and gradient norm: \n",
      "\t\t1.630E-04   and   1.525E+04 \t[ landmark_points ]\n",
      "\t\t1.513E-03   and   1.018E+03 \t[ momenta ]\n",
      "------------------------------------- Iteration: 15 -------------------------------------\n",
      ">> Log-likelihood = -7.266E+04 \t [ attachment = -6.687E+04 ; regularity = -5.789E+03 ]\n",
      ">> Step size and gradient norm: \n",
      "\t\t2.445E-04   and   1.563E+04 \t[ landmark_points ]\n",
      "\t\t2.270E-03   and   9.894E+02 \t[ momenta ]\n",
      "------------------------------------- Iteration: 16 -------------------------------------\n",
      ">> Log-likelihood = -7.064E+04 \t [ attachment = -6.463E+04 ; regularity = -6.010E+03 ]\n",
      ">> Step size and gradient norm: \n",
      "\t\t3.667E-04   and   2.067E+04 \t[ landmark_points ]\n",
      "\t\t3.405E-03   and   1.363E+03 \t[ momenta ]\n",
      "------------------------------------- Iteration: 17 -------------------------------------\n",
      ">> Log-likelihood = -6.932E+04 \t [ attachment = -6.330E+04 ; regularity = -6.018E+03 ]\n",
      ">> Step size and gradient norm: \n",
      "\t\t3.667E-04   and   3.083E+04 \t[ landmark_points ]\n",
      "\t\t1.702E-03   and   1.919E+03 \t[ momenta ]\n",
      "------------------------------------- Iteration: 18 -------------------------------------\n",
      ">> Log-likelihood = -6.704E+04 \t [ attachment = -6.090E+04 ; regularity = -6.140E+03 ]\n",
      ">> Step size and gradient norm: \n",
      "\t\t3.667E-04   and   1.812E+04 \t[ landmark_points ]\n",
      "\t\t8.512E-04   and   1.162E+03 \t[ momenta ]\n",
      "------------------------------------- Iteration: 19 -------------------------------------\n",
      ">> Log-likelihood = -6.556E+04 \t [ attachment = -5.942E+04 ; regularity = -6.135E+03 ]\n",
      ">> Step size and gradient norm: \n",
      "\t\t5.500E-04   and   1.258E+04 \t[ landmark_points ]\n",
      "\t\t1.277E-03   and   8.115E+02 \t[ momenta ]\n",
      "------------------------------------- Iteration: 20 -------------------------------------\n",
      ">> Log-likelihood = -6.398E+04 \t [ attachment = -5.776E+04 ; regularity = -6.226E+03 ]\n",
      ">> Step size and gradient norm: \n",
      "\t\t8.250E-04   and   1.322E+04 \t[ landmark_points ]\n",
      "\t\t1.915E-03   and   8.813E+02 \t[ momenta ]\n",
      "------------------------------------- Iteration: 21 -------------------------------------\n",
      ">> Log-likelihood = -6.269E+04 \t [ attachment = -5.645E+04 ; regularity = -6.239E+03 ]\n",
      ">> Step size and gradient norm: \n",
      "\t\t1.238E-03   and   2.675E+04 \t[ landmark_points ]\n",
      "\t\t2.873E-03   and   1.609E+03 \t[ momenta ]\n",
      ">> Step size and gradient norm: \n",
      "\t\t6.188E-04   and   2.675E+04 \t[ landmark_points ]\n",
      "\t\t1.436E-03   and   1.609E+03 \t[ momenta ]\n",
      "------------------------------------- Iteration: 22 -------------------------------------\n",
      ">> Log-likelihood = -6.111E+04 \t [ attachment = -5.479E+04 ; regularity = -6.322E+03 ]\n",
      ">> Step size and gradient norm: \n",
      "\t\t6.188E-04   and   1.857E+04 \t[ landmark_points ]\n",
      "\t\t7.182E-04   and   1.161E+03 \t[ momenta ]\n",
      "------------------------------------- Iteration: 23 -------------------------------------\n",
      ">> Log-likelihood = -5.993E+04 \t [ attachment = -5.363E+04 ; regularity = -6.300E+03 ]\n",
      ">> Step size and gradient norm: \n",
      "\t\t9.281E-04   and   1.346E+04 \t[ landmark_points ]\n",
      "\t\t1.077E-03   and   8.476E+02 \t[ momenta ]\n",
      "------------------------------------- Iteration: 24 -------------------------------------\n",
      ">> Log-likelihood = -5.894E+04 \t [ attachment = -5.257E+04 ; regularity = -6.372E+03 ]\n",
      ">> Step size and gradient norm: \n",
      "\t\t1.392E-03   and   1.835E+04 \t[ landmark_points ]\n",
      "\t\t1.616E-03   and   1.150E+03 \t[ momenta ]\n",
      "------------------------------------- Iteration: 25 -------------------------------------\n",
      ">> Log-likelihood = -5.856E+04 \t [ attachment = -5.222E+04 ; regularity = -6.342E+03 ]\n",
      ">> Estimation took: 24 minutes and 02 seconds\n"
     ]
    },
    {
     "data": {
      "text/plain": "<deformetrica.core.models.deterministic_atlas.DeterministicAtlas at 0x7f01c91cd850>"
     },
     "execution_count": 4,
     "metadata": {},
     "output_type": "execute_result"
    }
   ],
   "source": [
    "estimate_atlas(template_path, dataset_paths)"
   ],
   "metadata": {
    "collapsed": false,
    "pycharm": {
     "name": "#%%\n"
    }
   }
  },
  {
   "cell_type": "code",
   "execution_count": 4,
   "outputs": [
    {
     "name": "stdout",
     "output_type": "stream",
     "text": [
      "Logger has been set to: INFO\n",
      ">> No initial CP spacing given: using diffeo kernel width of 40.0\n",
      "OMP_NUM_THREADS was not found in environment variables. An automatic value will be set.\n",
      "OMP_NUM_THREADS will be set to 2\n",
      ">> No specified state-file. By default, Deformetrica state will by saved in file: /home/franco/Code/datasets/cq500/converted/selected/test/preprocessed_ct_to_skull/reg_CQ500-CT-390_CT 5mm POST CONTRAST_decimated_1perc/deformetrica-state.p.\n",
      ">> Set of 80 control points defined.\n",
      ">> Momenta initialized to zero, for 4 subjects.\n",
      ">> Started estimator: GradientAscent\n"
     ]
    },
    {
     "name": "stderr",
     "output_type": "stream",
     "text": [
      "/home/franco/anaconda3/envs/msr/lib/python3.8/site-packages/deformetrica/core/observations/deformable_objects/landmarks/surface_mesh.py:37: UserWarning:\n",
      "\n",
      "This overload of nonzero is deprecated:\n",
      "\tnonzero(Tensor input, *, Tensor out)\n",
      "Consider using one of the following signatures instead:\n",
      "\tnonzero(Tensor input, *, bool as_tuple) (Triggered internally at  /pytorch/torch/csrc/utils/python_arg_parser.cpp:766.)\n",
      "\n"
     ]
    },
    {
     "name": "stdout",
     "output_type": "stream",
     "text": [
      "------------------------------------- Iteration: 0 -------------------------------------\n",
      ">> Log-likelihood = -4.609E+05 \t [ attachment = -4.609E+05 ; regularity = 0.000E+00 ]\n",
      ">> Step size and gradient norm: \n",
      "\t\t6.220E-05   and   1.608E+04 \t[ momenta ]\n",
      "------------------------------------- Iteration: 1 -------------------------------------\n",
      ">> Log-likelihood = -4.450E+05 \t [ attachment = -4.450E+05 ; regularity = -3.107E+00 ]\n",
      ">> Step size and gradient norm: \n",
      "\t\t9.330E-05   and   1.579E+04 \t[ momenta ]\n",
      "------------------------------------- Iteration: 2 -------------------------------------\n",
      ">> Log-likelihood = -4.221E+05 \t [ attachment = -4.221E+05 ; regularity = -1.899E+01 ]\n",
      ">> Step size and gradient norm: \n",
      "\t\t1.400E-04   and   1.532E+04 \t[ momenta ]\n",
      "------------------------------------- Iteration: 3 -------------------------------------\n",
      ">> Log-likelihood = -3.900E+05 \t [ attachment = -3.899E+05 ; regularity = -6.610E+01 ]\n",
      ">> Step size and gradient norm: \n",
      "\t\t2.099E-04   and   1.457E+04 \t[ momenta ]\n",
      "------------------------------------- Iteration: 4 -------------------------------------\n",
      ">> Log-likelihood = -3.472E+05 \t [ attachment = -3.471E+05 ; regularity = -1.822E+02 ]\n",
      ">> Step size and gradient norm: \n",
      "\t\t3.149E-04   and   1.337E+04 \t[ momenta ]\n",
      "------------------------------------- Iteration: 5 -------------------------------------\n",
      ">> Log-likelihood = -2.948E+05 \t [ attachment = -2.943E+05 ; regularity = -4.345E+02 ]\n",
      ">> Step size and gradient norm: \n",
      "\t\t4.724E-04   and   1.156E+04 \t[ momenta ]\n",
      "------------------------------------- Iteration: 6 -------------------------------------\n",
      ">> Log-likelihood = -2.384E+05 \t [ attachment = -2.375E+05 ; regularity = -9.140E+02 ]\n",
      ">> Step size and gradient norm: \n",
      "\t\t7.085E-04   and   9.195E+03 \t[ momenta ]\n",
      "------------------------------------- Iteration: 7 -------------------------------------\n",
      ">> Log-likelihood = -1.872E+05 \t [ attachment = -1.856E+05 ; regularity = -1.682E+03 ]\n",
      ">> Step size and gradient norm: \n",
      "\t\t1.063E-03   and   6.714E+03 \t[ momenta ]\n",
      "------------------------------------- Iteration: 8 -------------------------------------\n",
      ">> Log-likelihood = -1.480E+05 \t [ attachment = -1.453E+05 ; regularity = -2.690E+03 ]\n",
      ">> Step size and gradient norm: \n",
      "\t\t1.594E-03   and   4.495E+03 \t[ momenta ]\n",
      "------------------------------------- Iteration: 9 -------------------------------------\n",
      ">> Log-likelihood = -1.226E+05 \t [ attachment = -1.188E+05 ; regularity = -3.765E+03 ]\n",
      ">> Step size and gradient norm: \n",
      "\t\t2.391E-03   and   2.885E+03 \t[ momenta ]\n",
      "------------------------------------- Iteration: 10 -------------------------------------\n",
      ">> Log-likelihood = -1.064E+05 \t [ attachment = -1.018E+05 ; regularity = -4.663E+03 ]\n",
      ">> Step size and gradient norm: \n",
      "\t\t3.587E-03   and   2.044E+03 \t[ momenta ]\n",
      "------------------------------------- Iteration: 11 -------------------------------------\n",
      ">> Log-likelihood = -9.400E+04 \t [ attachment = -8.870E+04 ; regularity = -5.301E+03 ]\n",
      ">> Step size and gradient norm: \n",
      "\t\t5.380E-03   and   1.690E+03 \t[ momenta ]\n",
      "------------------------------------- Iteration: 12 -------------------------------------\n",
      ">> Log-likelihood = -9.026E+04 \t [ attachment = -8.399E+04 ; regularity = -6.268E+03 ]\n",
      ">> Step size and gradient norm: \n",
      "\t\t8.071E-03   and   4.224E+03 \t[ momenta ]\n",
      ">> Step size and gradient norm: \n",
      "\t\t4.035E-03   and   4.224E+03 \t[ momenta ]\n",
      ">> Step size and gradient norm: \n",
      "\t\t2.018E-03   and   4.224E+03 \t[ momenta ]\n",
      ">> Step size and gradient norm: \n",
      "\t\t1.009E-03   and   4.224E+03 \t[ momenta ]\n",
      "------------------------------------- Iteration: 13 -------------------------------------\n",
      ">> Log-likelihood = -8.247E+04 \t [ attachment = -7.636E+04 ; regularity = -6.116E+03 ]\n",
      ">> Step size and gradient norm: \n",
      "\t\t1.513E-03   and   1.450E+03 \t[ momenta ]\n",
      "------------------------------------- Iteration: 14 -------------------------------------\n",
      ">> Log-likelihood = -8.074E+04 \t [ attachment = -7.440E+04 ; regularity = -6.340E+03 ]\n",
      ">> Step size and gradient norm: \n",
      "\t\t2.270E-03   and   1.359E+03 \t[ momenta ]\n",
      "------------------------------------- Iteration: 15 -------------------------------------\n",
      ">> Log-likelihood = -7.939E+04 \t [ attachment = -7.296E+04 ; regularity = -6.431E+03 ]\n",
      ">> Step size and gradient norm: \n",
      "\t\t3.405E-03   and   1.987E+03 \t[ momenta ]\n",
      ">> Step size and gradient norm: \n",
      "\t\t1.702E-03   and   1.987E+03 \t[ momenta ]\n",
      "------------------------------------- Iteration: 16 -------------------------------------\n",
      ">> Log-likelihood = -7.848E+04 \t [ attachment = -7.175E+04 ; regularity = -6.735E+03 ]\n",
      ">> Step size and gradient norm: \n",
      "\t\t2.554E-03   and   2.292E+03 \t[ momenta ]\n",
      ">> Step size and gradient norm: \n",
      "\t\t1.277E-03   and   2.292E+03 \t[ momenta ]\n",
      "------------------------------------- Iteration: 17 -------------------------------------\n",
      ">> Log-likelihood = -7.654E+04 \t [ attachment = -6.984E+04 ; regularity = -6.696E+03 ]\n",
      ">> Step size and gradient norm: \n",
      "\t\t1.915E-03   and   1.651E+03 \t[ momenta ]\n",
      "------------------------------------- Iteration: 18 -------------------------------------\n",
      ">> Log-likelihood = -7.619E+04 \t [ attachment = -6.922E+04 ; regularity = -6.976E+03 ]\n",
      ">> Step size and gradient norm: \n",
      "\t\t2.873E-03   and   2.303E+03 \t[ momenta ]\n",
      ">> Step size and gradient norm: \n",
      "\t\t1.436E-03   and   2.303E+03 \t[ momenta ]\n",
      "------------------------------------- Iteration: 19 -------------------------------------\n",
      ">> Log-likelihood = -7.494E+04 \t [ attachment = -6.799E+04 ; regularity = -6.945E+03 ]\n",
      ">> Step size and gradient norm: \n",
      "\t\t2.155E-03   and   2.098E+03 \t[ momenta ]\n",
      ">> Step size and gradient norm: \n",
      "\t\t1.077E-03   and   2.098E+03 \t[ momenta ]\n",
      "------------------------------------- Iteration: 20 -------------------------------------\n",
      ">> Log-likelihood = -7.314E+04 \t [ attachment = -6.604E+04 ; regularity = -7.103E+03 ]\n",
      ">> Step size and gradient norm: \n",
      "\t\t1.616E-03   and   1.139E+03 \t[ momenta ]\n",
      "------------------------------------- Iteration: 21 -------------------------------------\n",
      ">> Log-likelihood = -7.234E+04 \t [ attachment = -6.518E+04 ; regularity = -7.167E+03 ]\n",
      ">> Step size and gradient norm: \n",
      "\t\t2.424E-03   and   1.234E+03 \t[ momenta ]\n",
      ">> Step size and gradient norm: \n",
      "\t\t1.212E-03   and   1.234E+03 \t[ momenta ]\n",
      "------------------------------------- Iteration: 22 -------------------------------------\n",
      ">> Log-likelihood = -7.149E+04 \t [ attachment = -6.420E+04 ; regularity = -7.290E+03 ]\n",
      ">> Step size and gradient norm: \n",
      "\t\t1.818E-03   and   9.435E+02 \t[ momenta ]\n",
      "------------------------------------- Iteration: 23 -------------------------------------\n",
      ">> Log-likelihood = -7.078E+04 \t [ attachment = -6.340E+04 ; regularity = -7.377E+03 ]\n",
      ">> Step size and gradient norm: \n",
      "\t\t2.727E-03   and   1.134E+03 \t[ momenta ]\n",
      ">> Step size and gradient norm: \n",
      "\t\t1.363E-03   and   1.134E+03 \t[ momenta ]\n",
      "------------------------------------- Iteration: 24 -------------------------------------\n",
      ">> Log-likelihood = -7.008E+04 \t [ attachment = -6.258E+04 ; regularity = -7.502E+03 ]\n",
      ">> Step size and gradient norm: \n",
      "\t\t2.045E-03   and   1.005E+03 \t[ momenta ]\n",
      "------------------------------------- Iteration: 25 -------------------------------------\n",
      ">> Log-likelihood = -6.969E+04 \t [ attachment = -6.210E+04 ; regularity = -7.589E+03 ]\n",
      ">> Estimation took: 17 minutes and 49 seconds\n"
     ]
    }
   ],
   "source": [
    "estimate_registration(template_path, dataset_paths)"
   ],
   "metadata": {
    "collapsed": false,
    "pycharm": {
     "name": "#%%\n"
    }
   }
  }
 ],
 "metadata": {
  "kernelspec": {
   "display_name": "Python 3 (ipykernel)",
   "language": "python",
   "name": "python3"
  },
  "language_info": {
   "codemirror_mode": {
    "name": "ipython",
    "version": 3
   },
   "file_extension": ".py",
   "mimetype": "text/x-python",
   "name": "python",
   "nbconvert_exporter": "python",
   "pygments_lexer": "ipython3",
   "version": "3.8.13"
  },
  "vscode": {
   "interpreter": {
    "hash": "159c917228f05416d9b819fe32ed20dc8363f68fb18cb83ee7ae4737bd8f0b32"
   }
  }
 },
 "nbformat": 4,
 "nbformat_minor": 4
}