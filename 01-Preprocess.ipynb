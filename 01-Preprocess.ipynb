{
 "cells": [
  {
   "cell_type": "markdown",
   "source": [
    "# Preprocess the data"
   ],
   "metadata": {
    "collapsed": false
   }
  },
  {
   "cell_type": "markdown",
   "metadata": {
    "pycharm": {
     "name": "#%% md\n"
    }
   },
   "source": [
    "## Rigid registration and skull extraction"
   ]
  },
  {
   "cell_type": "code",
   "execution_count": 2,
   "metadata": {
    "jupyter": {
     "outputs_hidden": false
    }
   },
   "outputs": [],
   "source": [
    "import os\n",
    "from os.path import expanduser as eu\n",
    "from headctools.preprocessing import ct_skull, utils"
   ]
  },
  {
   "cell_type": "code",
   "execution_count": 2,
   "metadata": {},
   "outputs": [
    {
     "name": "stdout",
     "output_type": "stream",
     "text": [
      "Getting nii.gz images from /home/fmatzkin/Code/datasets/cq500/converted/selected/test\n",
      "Found 2 images\n",
      " No save path specified. Using default save path.\n",
      "Preprocessing {'image': '/home/fmatzkin/Code/datasets/cq500/converted/selected/test/CQ500-CT-312_CT PRE CONTRAST THIN.nii.gz'}\n",
      "  File /home/fmatzkin/Code/datasets/cq500/converted/selected/test/preprocessed_ct_to_skull/CQ500-CT-312_CT PRE CONTRAST THIN.nii.gz already exists..\n",
      "Preprocessing {'image': '/home/fmatzkin/Code/datasets/cq500/converted/selected/test/CQ500-CT-405_CT Thin Plain.nii.gz'}\n",
      "  File /home/fmatzkin/Code/datasets/cq500/converted/selected/test/preprocessed_ct_to_skull/CQ500-CT-405_CT Thin Plain.nii.gz already exists..\n",
      "  Saved images in /home/fmatzkin/Code/datasets/cq500/converted/selected/test/preprocessed_ct_to_skull\n"
     ]
    },
    {
     "data": {
      "text/plain": "'/home/fmatzkin/Code/datasets/cq500/converted/selected/test/preprocessed_ct_to_skull'"
     },
     "execution_count": 2,
     "metadata": {},
     "output_type": "execute_result"
    }
   ],
   "source": [
    "imgs = eu('~/Code/datasets/cq500/converted/selected/test')\n",
    "fixed_img = os.path.join(imgs, 'CQ500-CT-312_CT PRE CONTRAST THIN.nii.gz')\n",
    "# Registered images will be saved in a subfolder with the name of the fixed img\n",
    "\n",
    "params = {\n",
    "    'reg_atlas_path': fixed_img,\n",
    "    'overwrite_images': False,\n",
    "    # 'skip_registration': True  # Non-default params\n",
    "}\n",
    "\n",
    "ct_skull(imgs, params=params)  # Preprocess the imgs"
   ]
  },
  {
   "cell_type": "markdown",
   "metadata": {},
   "source": [
    "## Mesh atlas construction\n",
    "### Decimate meshes"
   ]
  },
  {
   "cell_type": "code",
   "execution_count": 3,
   "metadata": {},
   "outputs": [
    {
     "name": "stdout",
     "output_type": "stream",
     "text": [
      "Decimating meshes...\n",
      "  Input folder: /home/fmatzkin/Code/datasets/cq500/converted/selected/test/preprocessed_ct_to_skull\n",
      "  Found 2 meshes\n",
      "    [1/2] Input mesh: CQ500-CT-312_CT PRE CONTRAST THIN.stl\n",
      "    Mesh already exists, skipping...\n",
      "    [2/2] Input mesh: CQ500-CT-405_CT Thin Plain.stl\n",
      "    Mesh already exists, skipping...\n"
     ]
    }
   ],
   "source": [
    "meshes_folder = '~/Code/datasets/cq500/converted/selected/test/preprocessed_ct_to_skull'\n",
    "decimate_factor = 0.01\n",
    "decimated_meshes = utils.decimate_meshes(meshes_folder, decimate_factor,\n",
    "                                         overwrite=False)"
   ]
  },
  {
   "cell_type": "markdown",
   "metadata": {},
   "source": [
    "### Deformetrica\n",
    "#### Atlas estimation"
   ]
  },
  {
   "cell_type": "code",
   "execution_count": 4,
   "metadata": {},
   "outputs": [],
   "source": [
    "from src.deformetrica import estimate_atlas, estimate_registration\n",
    "\n",
    "template_path, dataset_paths = decimated_meshes[0], decimated_meshes[1:]"
   ]
  },
  {
   "cell_type": "code",
   "execution_count": 4,
   "outputs": [
    {
     "name": "stdout",
     "output_type": "stream",
     "text": [
      "Logger has been set to: INFO\n",
      ">> No initial CP spacing given: using diffeo kernel width of 40.0\n",
      "OMP_NUM_THREADS was not found in environment variables. An automatic value will be set.\n",
      "OMP_NUM_THREADS will be set to 2\n",
      ">> No specified state-file. By default, Deformetrica state will by saved in file: output/deformetrica-state.p.\n",
      ">> Set of 80 control points defined.\n",
      ">> Momenta initialized to zero, for 4 subjects.\n",
      ">> Started estimator: GradientAscent\n"
     ]
    },
    {
     "name": "stderr",
     "output_type": "stream",
     "text": [
      "/home/franco/anaconda3/envs/msr/lib/python3.8/site-packages/deformetrica/core/observations/deformable_objects/landmarks/surface_mesh.py:37: UserWarning:\n",
      "\n",
      "This overload of nonzero is deprecated:\n",
      "\tnonzero(Tensor input, *, Tensor out)\n",
      "Consider using one of the following signatures instead:\n",
      "\tnonzero(Tensor input, *, bool as_tuple) (Triggered internally at  /pytorch/torch/csrc/utils/python_arg_parser.cpp:766.)\n",
      "\n"
     ]
    },
    {
     "name": "stdout",
     "output_type": "stream",
     "text": [
      "------------------------------------- Iteration: 0 -------------------------------------\n",
      ">> Log-likelihood = -4.609E+05 \t [ attachment = -4.609E+05 ; regularity = 0.000E+00 ]\n",
      ">> Step size and gradient norm: \n",
      "\t\t3.349E-06   and   2.986E+05 \t[ landmark_points ]\n",
      "\t\t6.220E-05   and   1.608E+04 \t[ momenta ]\n",
      "------------------------------------- Iteration: 1 -------------------------------------\n",
      ">> Log-likelihood = -4.439E+05 \t [ attachment = -4.439E+05 ; regularity = -3.107E+00 ]\n",
      ">> Step size and gradient norm: \n",
      "\t\t5.024E-06   and   2.927E+05 \t[ landmark_points ]\n",
      "\t\t9.330E-05   and   1.577E+04 \t[ momenta ]\n",
      "------------------------------------- Iteration: 2 -------------------------------------\n",
      ">> Log-likelihood = -4.195E+05 \t [ attachment = -4.195E+05 ; regularity = -1.895E+01 ]\n",
      ">> Step size and gradient norm: \n",
      "\t\t7.536E-06   and   2.833E+05 \t[ landmark_points ]\n",
      "\t\t1.400E-04   and   1.527E+04 \t[ momenta ]\n",
      "------------------------------------- Iteration: 3 -------------------------------------\n",
      ">> Log-likelihood = -3.855E+05 \t [ attachment = -3.854E+05 ; regularity = -6.580E+01 ]\n",
      ">> Step size and gradient norm: \n",
      "\t\t1.130E-05   and   2.683E+05 \t[ landmark_points ]\n",
      "\t\t2.099E-04   and   1.446E+04 \t[ momenta ]\n",
      "------------------------------------- Iteration: 4 -------------------------------------\n",
      ">> Log-likelihood = -3.406E+05 \t [ attachment = -3.404E+05 ; regularity = -1.805E+02 ]\n",
      ">> Step size and gradient norm: \n",
      "\t\t1.696E-05   and   2.445E+05 \t[ landmark_points ]\n",
      "\t\t3.149E-04   and   1.317E+04 \t[ momenta ]\n",
      "------------------------------------- Iteration: 5 -------------------------------------\n",
      ">> Log-likelihood = -2.865E+05 \t [ attachment = -2.861E+05 ; regularity = -4.269E+02 ]\n",
      ">> Step size and gradient norm: \n",
      "\t\t2.543E-05   and   2.092E+05 \t[ landmark_points ]\n",
      "\t\t4.724E-04   and   1.125E+04 \t[ momenta ]\n",
      "------------------------------------- Iteration: 6 -------------------------------------\n",
      ">> Log-likelihood = -2.299E+05 \t [ attachment = -2.290E+05 ; regularity = -8.861E+02 ]\n",
      ">> Step size and gradient norm: \n",
      "\t\t3.815E-05   and   1.638E+05 \t[ landmark_points ]\n",
      "\t\t7.085E-04   and   8.829E+03 \t[ momenta ]\n",
      "------------------------------------- Iteration: 7 -------------------------------------\n",
      ">> Log-likelihood = -1.798E+05 \t [ attachment = -1.782E+05 ; regularity = -1.602E+03 ]\n",
      ">> Step size and gradient norm: \n",
      "\t\t5.723E-05   and   1.171E+05 \t[ landmark_points ]\n",
      "\t\t1.063E-03   and   6.393E+03 \t[ momenta ]\n",
      "------------------------------------- Iteration: 8 -------------------------------------\n",
      ">> Log-likelihood = -1.419E+05 \t [ attachment = -1.394E+05 ; regularity = -2.518E+03 ]\n",
      ">> Step size and gradient norm: \n",
      "\t\t8.584E-05   and   7.627E+04 \t[ landmark_points ]\n",
      "\t\t1.594E-03   and   4.259E+03 \t[ momenta ]\n",
      "------------------------------------- Iteration: 9 -------------------------------------\n",
      ">> Log-likelihood = -1.172E+05 \t [ attachment = -1.137E+05 ; regularity = -3.485E+03 ]\n",
      ">> Step size and gradient norm: \n",
      "\t\t1.288E-04   and   4.585E+04 \t[ landmark_points ]\n",
      "\t\t2.391E-03   and   2.736E+03 \t[ momenta ]\n",
      "------------------------------------- Iteration: 10 -------------------------------------\n",
      ">> Log-likelihood = -1.009E+05 \t [ attachment = -9.665E+04 ; regularity = -4.284E+03 ]\n",
      ">> Step size and gradient norm: \n",
      "\t\t1.931E-04   and   2.972E+04 \t[ landmark_points ]\n",
      "\t\t3.587E-03   and   1.933E+03 \t[ momenta ]\n",
      "------------------------------------- Iteration: 11 -------------------------------------\n",
      ">> Log-likelihood = -8.812E+04 \t [ attachment = -8.326E+04 ; regularity = -4.860E+03 ]\n",
      ">> Step size and gradient norm: \n",
      "\t\t2.897E-04   and   2.347E+04 \t[ landmark_points ]\n",
      "\t\t5.380E-03   and   1.572E+03 \t[ momenta ]\n",
      "------------------------------------- Iteration: 12 -------------------------------------\n",
      ">> Log-likelihood = -8.381E+04 \t [ attachment = -7.811E+04 ; regularity = -5.703E+03 ]\n",
      ">> Step size and gradient norm: \n",
      "\t\t4.346E-04   and   5.832E+04 \t[ landmark_points ]\n",
      "\t\t8.071E-03   and   4.024E+03 \t[ momenta ]\n",
      ">> Step size and gradient norm: \n",
      "\t\t2.173E-04   and   5.832E+04 \t[ landmark_points ]\n",
      "\t\t4.035E-03   and   4.024E+03 \t[ momenta ]\n",
      ">> Step size and gradient norm: \n",
      "\t\t1.086E-04   and   5.832E+04 \t[ landmark_points ]\n",
      "\t\t2.018E-03   and   4.024E+03 \t[ momenta ]\n",
      "------------------------------------- Iteration: 13 -------------------------------------\n",
      ">> Log-likelihood = -7.634E+04 \t [ attachment = -7.077E+04 ; regularity = -5.568E+03 ]\n",
      ">> Step size and gradient norm: \n",
      "\t\t1.086E-04   and   2.494E+04 \t[ landmark_points ]\n",
      "\t\t1.009E-03   and   1.535E+03 \t[ momenta ]\n",
      "------------------------------------- Iteration: 14 -------------------------------------\n",
      ">> Log-likelihood = -7.447E+04 \t [ attachment = -6.875E+04 ; regularity = -5.720E+03 ]\n",
      ">> Step size and gradient norm: \n",
      "\t\t1.630E-04   and   1.525E+04 \t[ landmark_points ]\n",
      "\t\t1.513E-03   and   1.018E+03 \t[ momenta ]\n",
      "------------------------------------- Iteration: 15 -------------------------------------\n",
      ">> Log-likelihood = -7.266E+04 \t [ attachment = -6.687E+04 ; regularity = -5.789E+03 ]\n",
      ">> Step size and gradient norm: \n",
      "\t\t2.445E-04   and   1.563E+04 \t[ landmark_points ]\n",
      "\t\t2.270E-03   and   9.894E+02 \t[ momenta ]\n",
      "------------------------------------- Iteration: 16 -------------------------------------\n",
      ">> Log-likelihood = -7.064E+04 \t [ attachment = -6.463E+04 ; regularity = -6.010E+03 ]\n",
      ">> Step size and gradient norm: \n",
      "\t\t3.667E-04   and   2.067E+04 \t[ landmark_points ]\n",
      "\t\t3.405E-03   and   1.363E+03 \t[ momenta ]\n",
      "------------------------------------- Iteration: 17 -------------------------------------\n",
      ">> Log-likelihood = -6.932E+04 \t [ attachment = -6.330E+04 ; regularity = -6.018E+03 ]\n",
      ">> Step size and gradient norm: \n",
      "\t\t3.667E-04   and   3.083E+04 \t[ landmark_points ]\n",
      "\t\t1.702E-03   and   1.919E+03 \t[ momenta ]\n",
      "------------------------------------- Iteration: 18 -------------------------------------\n",
      ">> Log-likelihood = -6.704E+04 \t [ attachment = -6.090E+04 ; regularity = -6.140E+03 ]\n",
      ">> Step size and gradient norm: \n",
      "\t\t3.667E-04   and   1.812E+04 \t[ landmark_points ]\n",
      "\t\t8.512E-04   and   1.162E+03 \t[ momenta ]\n",
      "------------------------------------- Iteration: 19 -------------------------------------\n",
      ">> Log-likelihood = -6.556E+04 \t [ attachment = -5.942E+04 ; regularity = -6.135E+03 ]\n",
      ">> Step size and gradient norm: \n",
      "\t\t5.500E-04   and   1.258E+04 \t[ landmark_points ]\n",
      "\t\t1.277E-03   and   8.115E+02 \t[ momenta ]\n",
      "------------------------------------- Iteration: 20 -------------------------------------\n",
      ">> Log-likelihood = -6.398E+04 \t [ attachment = -5.776E+04 ; regularity = -6.226E+03 ]\n",
      ">> Step size and gradient norm: \n",
      "\t\t8.250E-04   and   1.322E+04 \t[ landmark_points ]\n",
      "\t\t1.915E-03   and   8.813E+02 \t[ momenta ]\n",
      "------------------------------------- Iteration: 21 -------------------------------------\n",
      ">> Log-likelihood = -6.269E+04 \t [ attachment = -5.645E+04 ; regularity = -6.239E+03 ]\n",
      ">> Step size and gradient norm: \n",
      "\t\t1.238E-03   and   2.675E+04 \t[ landmark_points ]\n",
      "\t\t2.873E-03   and   1.609E+03 \t[ momenta ]\n",
      ">> Step size and gradient norm: \n",
      "\t\t6.188E-04   and   2.675E+04 \t[ landmark_points ]\n",
      "\t\t1.436E-03   and   1.609E+03 \t[ momenta ]\n",
      "------------------------------------- Iteration: 22 -------------------------------------\n",
      ">> Log-likelihood = -6.111E+04 \t [ attachment = -5.479E+04 ; regularity = -6.322E+03 ]\n",
      ">> Step size and gradient norm: \n",
      "\t\t6.188E-04   and   1.857E+04 \t[ landmark_points ]\n",
      "\t\t7.182E-04   and   1.161E+03 \t[ momenta ]\n",
      "------------------------------------- Iteration: 23 -------------------------------------\n",
      ">> Log-likelihood = -5.993E+04 \t [ attachment = -5.363E+04 ; regularity = -6.300E+03 ]\n",
      ">> Step size and gradient norm: \n",
      "\t\t9.281E-04   and   1.346E+04 \t[ landmark_points ]\n",
      "\t\t1.077E-03   and   8.476E+02 \t[ momenta ]\n",
      "------------------------------------- Iteration: 24 -------------------------------------\n",
      ">> Log-likelihood = -5.894E+04 \t [ attachment = -5.257E+04 ; regularity = -6.372E+03 ]\n",
      ">> Step size and gradient norm: \n",
      "\t\t1.392E-03   and   1.835E+04 \t[ landmark_points ]\n",
      "\t\t1.616E-03   and   1.150E+03 \t[ momenta ]\n",
      "------------------------------------- Iteration: 25 -------------------------------------\n",
      ">> Log-likelihood = -5.856E+04 \t [ attachment = -5.222E+04 ; regularity = -6.342E+03 ]\n",
      ">> Estimation took: 24 minutes and 02 seconds\n"
     ]
    },
    {
     "data": {
      "text/plain": "<deformetrica.core.models.deterministic_atlas.DeterministicAtlas at 0x7f01c91cd850>"
     },
     "execution_count": 4,
     "metadata": {},
     "output_type": "execute_result"
    }
   ],
   "source": [
    "estimate_atlas(template_path, dataset_paths)"
   ],
   "metadata": {
    "collapsed": false,
    "pycharm": {
     "name": "#%%\n"
    }
   }
  },
  {
   "cell_type": "code",
   "execution_count": 6,
   "outputs": [
    {
     "name": "stdout",
     "output_type": "stream",
     "text": [
      "Logger has been set to: INFO\n",
      ">> No initial CP spacing given: using diffeo kernel width of 40.0\n",
      "OMP_NUM_THREADS was not found in environment variables. An automatic value will be set.\n",
      "OMP_NUM_THREADS will be set to 4\n",
      ">> No specified state-file. By default, Deformetrica state will by saved in file: /home/fmatzkin/Code/datasets/cq500/converted/selected/test/preprocessed_ct_to_skull/reg_CQ500-CT-312_CT PRE CONTRAST THIN_decimated_1perc/deformetrica-state.p.\n",
      ">> Set of 80 control points defined.\n",
      ">> Momenta initialized to zero, for 1 subjects.\n",
      ">> Started estimator: GradientAscent\n"
     ]
    },
    {
     "name": "stderr",
     "output_type": "stream",
     "text": [
      "/home/fmatzkin/Code/envs/anaconda3/envs/msr/lib/python3.8/site-packages/deformetrica/core/observations/deformable_objects/landmarks/surface_mesh.py:37: UserWarning:\n",
      "\n",
      "This overload of nonzero is deprecated:\n",
      "\tnonzero(Tensor input, *, Tensor out)\n",
      "Consider using one of the following signatures instead:\n",
      "\tnonzero(Tensor input, *, bool as_tuple) (Triggered internally at  /pytorch/torch/csrc/utils/python_arg_parser.cpp:766.)\n",
      "\n"
     ]
    },
    {
     "name": "stdout",
     "output_type": "stream",
     "text": [
      "------------------------------------- Iteration: 0 -------------------------------------\n",
      ">> Log-likelihood = -5.269E+04 \t [ attachment = -5.269E+04 ; regularity = 0.000E+00 ]\n",
      ">> Step size and gradient norm: \n",
      "\t\t1.955E-04   and   5.114E+03 \t[ momenta ]\n",
      "------------------------------------- Iteration: 1 -------------------------------------\n",
      ">> Log-likelihood = -4.777E+04 \t [ attachment = -4.776E+04 ; regularity = -3.230E+00 ]\n",
      ">> Step size and gradient norm: \n",
      "\t\t2.933E-04   and   4.730E+03 \t[ momenta ]\n",
      "------------------------------------- Iteration: 2 -------------------------------------\n",
      ">> Log-likelihood = -4.159E+04 \t [ attachment = -4.157E+04 ; regularity = -1.836E+01 ]\n",
      ">> Step size and gradient norm: \n",
      "\t\t4.400E-04   and   4.175E+03 \t[ momenta ]\n",
      "------------------------------------- Iteration: 3 -------------------------------------\n",
      ">> Log-likelihood = -3.462E+04 \t [ attachment = -3.456E+04 ; regularity = -5.715E+01 ]\n",
      ">> Step size and gradient norm: \n",
      "\t\t6.599E-04   and   3.429E+03 \t[ momenta ]\n",
      "------------------------------------- Iteration: 4 -------------------------------------\n",
      ">> Log-likelihood = -2.788E+04 \t [ attachment = -2.775E+04 ; regularity = -1.331E+02 ]\n",
      ">> Step size and gradient norm: \n",
      "\t\t9.899E-04   and   2.562E+03 \t[ momenta ]\n",
      "------------------------------------- Iteration: 5 -------------------------------------\n",
      ">> Log-likelihood = -2.249E+04 \t [ attachment = -2.224E+04 ; regularity = -2.501E+02 ]\n",
      ">> Step size and gradient norm: \n",
      "\t\t1.485E-03   and   1.772E+03 \t[ momenta ]\n",
      "------------------------------------- Iteration: 6 -------------------------------------\n",
      ">> Log-likelihood = -1.867E+04 \t [ attachment = -1.828E+04 ; regularity = -3.913E+02 ]\n",
      ">> Step size and gradient norm: \n",
      "\t\t2.227E-03   and   1.208E+03 \t[ momenta ]\n",
      "------------------------------------- Iteration: 7 -------------------------------------\n",
      ">> Log-likelihood = -1.600E+04 \t [ attachment = -1.546E+04 ; regularity = -5.356E+02 ]\n",
      ">> Step size and gradient norm: \n",
      "\t\t3.341E-03   and   8.327E+02 \t[ momenta ]\n",
      "------------------------------------- Iteration: 8 -------------------------------------\n",
      ">> Log-likelihood = -1.407E+04 \t [ attachment = -1.339E+04 ; regularity = -6.851E+02 ]\n",
      ">> Step size and gradient norm: \n",
      "\t\t5.011E-03   and   5.838E+02 \t[ momenta ]\n",
      "------------------------------------- Iteration: 9 -------------------------------------\n",
      ">> Log-likelihood = -1.266E+04 \t [ attachment = -1.183E+04 ; regularity = -8.352E+02 ]\n",
      ">> Step size and gradient norm: \n",
      "\t\t7.517E-03   and   4.263E+02 \t[ momenta ]\n",
      "------------------------------------- Iteration: 10 -------------------------------------\n",
      ">> Log-likelihood = -1.179E+04 \t [ attachment = -1.077E+04 ; regularity = -1.023E+03 ]\n",
      ">> Step size and gradient norm: \n",
      "\t\t1.128E-02   and   7.080E+02 \t[ momenta ]\n",
      ">> Step size and gradient norm: \n",
      "\t\t5.638E-03   and   7.080E+02 \t[ momenta ]\n",
      ">> Step size and gradient norm: \n",
      "\t\t2.819E-03   and   7.080E+02 \t[ momenta ]\n",
      ">> Step size and gradient norm: \n",
      "\t\t1.409E-03   and   7.080E+02 \t[ momenta ]\n",
      "------------------------------------- Iteration: 11 -------------------------------------\n",
      ">> Log-likelihood = -1.146E+04 \t [ attachment = -1.044E+04 ; regularity = -1.020E+03 ]\n",
      ">> Step size and gradient norm: \n",
      "\t\t2.114E-03   and   3.524E+02 \t[ momenta ]\n",
      "------------------------------------- Iteration: 12 -------------------------------------\n",
      ">> Log-likelihood = -1.127E+04 \t [ attachment = -1.022E+04 ; regularity = -1.050E+03 ]\n",
      ">> Step size and gradient norm: \n",
      "\t\t3.171E-03   and   3.350E+02 \t[ momenta ]\n",
      "------------------------------------- Iteration: 13 -------------------------------------\n",
      ">> Log-likelihood = -1.108E+04 \t [ attachment = -9.997E+03 ; regularity = -1.084E+03 ]\n",
      ">> Step size and gradient norm: \n",
      "\t\t4.757E-03   and   4.387E+02 \t[ momenta ]\n",
      ">> Step size and gradient norm: \n",
      "\t\t2.378E-03   and   4.387E+02 \t[ momenta ]\n",
      "------------------------------------- Iteration: 14 -------------------------------------\n",
      ">> Log-likelihood = -1.095E+04 \t [ attachment = -9.831E+03 ; regularity = -1.122E+03 ]\n",
      ">> Step size and gradient norm: \n",
      "\t\t3.568E-03   and   4.920E+02 \t[ momenta ]\n",
      ">> Step size and gradient norm: \n",
      "\t\t1.784E-03   and   4.920E+02 \t[ momenta ]\n",
      "------------------------------------- Iteration: 15 -------------------------------------\n",
      ">> Log-likelihood = -1.079E+04 \t [ attachment = -9.656E+03 ; regularity = -1.134E+03 ]\n",
      ">> Step size and gradient norm: \n",
      "\t\t2.676E-03   and   3.662E+02 \t[ momenta ]\n",
      "------------------------------------- Iteration: 16 -------------------------------------\n",
      ">> Log-likelihood = -1.069E+04 \t [ attachment = -9.520E+03 ; regularity = -1.173E+03 ]\n",
      ">> Step size and gradient norm: \n",
      "\t\t4.014E-03   and   4.698E+02 \t[ momenta ]\n",
      ">> Step size and gradient norm: \n",
      "\t\t2.007E-03   and   4.698E+02 \t[ momenta ]\n",
      "------------------------------------- Iteration: 17 -------------------------------------\n",
      ">> Log-likelihood = -1.057E+04 \t [ attachment = -9.384E+03 ; regularity = -1.185E+03 ]\n",
      ">> Step size and gradient norm: \n",
      "\t\t3.010E-03   and   4.162E+02 \t[ momenta ]\n",
      ">> Step size and gradient norm: \n",
      "\t\t1.505E-03   and   4.162E+02 \t[ momenta ]\n",
      "------------------------------------- Iteration: 18 -------------------------------------\n",
      ">> Log-likelihood = -1.044E+04 \t [ attachment = -9.236E+03 ; regularity = -1.206E+03 ]\n",
      ">> Step size and gradient norm: \n",
      "\t\t2.258E-03   and   2.539E+02 \t[ momenta ]\n",
      "------------------------------------- Iteration: 19 -------------------------------------\n",
      ">> Log-likelihood = -1.035E+04 \t [ attachment = -9.120E+03 ; regularity = -1.225E+03 ]\n",
      ">> Step size and gradient norm: \n",
      "\t\t3.386E-03   and   2.549E+02 \t[ momenta ]\n",
      "------------------------------------- Iteration: 20 -------------------------------------\n",
      ">> Log-likelihood = -1.026E+04 \t [ attachment = -8.993E+03 ; regularity = -1.265E+03 ]\n",
      ">> Step size and gradient norm: \n",
      "\t\t5.080E-03   and   3.829E+02 \t[ momenta ]\n",
      ">> Step size and gradient norm: \n",
      "\t\t2.540E-03   and   3.829E+02 \t[ momenta ]\n",
      "------------------------------------- Iteration: 21 -------------------------------------\n",
      ">> Log-likelihood = -1.022E+04 \t [ attachment = -8.938E+03 ; regularity = -1.279E+03 ]\n",
      ">> Step size and gradient norm: \n",
      "\t\t3.810E-03   and   4.870E+02 \t[ momenta ]\n",
      ">> Step size and gradient norm: \n",
      "\t\t1.905E-03   and   4.870E+02 \t[ momenta ]\n",
      "------------------------------------- Iteration: 22 -------------------------------------\n",
      ">> Log-likelihood = -1.011E+04 \t [ attachment = -8.805E+03 ; regularity = -1.306E+03 ]\n",
      ">> Step size and gradient norm: \n",
      "\t\t2.857E-03   and   3.901E+02 \t[ momenta ]\n",
      ">> Step size and gradient norm: \n",
      "\t\t1.429E-03   and   3.901E+02 \t[ momenta ]\n",
      "------------------------------------- Iteration: 23 -------------------------------------\n",
      ">> Log-likelihood = -1.001E+04 \t [ attachment = -8.696E+03 ; regularity = -1.312E+03 ]\n",
      ">> Step size and gradient norm: \n",
      "\t\t2.143E-03   and   2.071E+02 \t[ momenta ]\n",
      "------------------------------------- Iteration: 24 -------------------------------------\n",
      ">> Log-likelihood = -9.944E+03 \t [ attachment = -8.612E+03 ; regularity = -1.332E+03 ]\n",
      ">> Step size and gradient norm: \n",
      "\t\t3.214E-03   and   2.020E+02 \t[ momenta ]\n",
      "------------------------------------- Iteration: 25 -------------------------------------\n",
      ">> Log-likelihood = -9.876E+03 \t [ attachment = -8.521E+03 ; regularity = -1.354E+03 ]\n",
      ">> Estimation took: 02 minutes and 55 seconds\n"
     ]
    }
   ],
   "source": [
    "estimate_registration(template_path, dataset_paths)"
   ],
   "metadata": {
    "collapsed": false,
    "pycharm": {
     "name": "#%%\n"
    }
   }
  }
 ],
 "metadata": {
  "kernelspec": {
   "display_name": "Python 3 (ipykernel)",
   "language": "python",
   "name": "python3"
  },
  "language_info": {
   "codemirror_mode": {
    "name": "ipython",
    "version": 3
   },
   "file_extension": ".py",
   "mimetype": "text/x-python",
   "name": "python",
   "nbconvert_exporter": "python",
   "pygments_lexer": "ipython3",
   "version": "3.8.13"
  },
  "vscode": {
   "interpreter": {
    "hash": "159c917228f05416d9b819fe32ed20dc8363f68fb18cb83ee7ae4737bd8f0b32"
   }
  }
 },
 "nbformat": 4,
 "nbformat_minor": 4
}
