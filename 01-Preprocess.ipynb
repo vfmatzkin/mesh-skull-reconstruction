{
 "cells": [
  {
   "cell_type": "markdown",
   "source": [
    "# Preprocess the data\n",
    "The first step in the preprocessing is to register the images using deformetrica.\n",
    "For this purpose, affine transforms will be used for aligning all the images respect to a chosen image in the dataset to take them all to the same space."
   ],
   "metadata": {
    "collapsed": false,
    "pycharm": {
     "name": "#%% md\n"
    }
   }
  },
  {
   "cell_type": "markdown",
   "source": [
    "## Register plain CT images"
   ],
   "metadata": {
    "collapsed": false,
    "pycharm": {
     "name": "#%% md\n"
    }
   }
  },
  {
   "cell_type": "code",
   "execution_count": 1,
   "outputs": [
    {
     "name": "stdout",
     "output_type": "stream",
     "text": [
      "registering /home/franco/Code/datasets/cq500/converted/selected/test/CQ500-CT-216_CT 0.625mm.nii.gz...\n",
      "registering /home/franco/Code/datasets/cq500/converted/selected/test/CQ500-CT-390_CT 5mm POST CONTRAST.nii.gz...\n",
      "registering /home/franco/Code/datasets/cq500/converted/selected/test/CQ500-CT-312_CT PRE CONTRAST THIN.nii.gz...\n",
      "registering /home/franco/Code/datasets/cq500/converted/selected/test/CQ500-CT-405_CT Thin Plain.nii.gz...\n",
      "registering /home/franco/Code/datasets/cq500/converted/selected/test/CQ500-CT-184_CT Thin Plain.nii.gz...\n"
     ]
    }
   ],
   "source": [
    "import os\n",
    "from os.path import expanduser as eu\n",
    "from headctools.registration import register_file_folder\n",
    "\n",
    "imgs = eu('~/Code/datasets/cq500/converted/selected/test')\n",
    "fixed_img = os.path.join(imgs, 'CQ500-CT-312_CT PRE CONTRAST THIN.nii.gz')\n",
    "# Registered images will be saved in a sub folder with the name of the fixed image\n",
    "\n",
    "register_file_folder(imgs, fixed_img)"
   ],
   "metadata": {
    "collapsed": false,
    "pycharm": {
     "name": "#%%\n"
    }
   }
  },
  {
   "cell_type": "code",
   "execution_count": null,
   "outputs": [],
   "source": [],
   "metadata": {
    "collapsed": false,
    "pycharm": {
     "name": "#%%\n"
    }
   }
  }
 ],
 "metadata": {
  "kernelspec": {
   "display_name": "Python 3",
   "language": "python",
   "name": "python3"
  },
  "language_info": {
   "codemirror_mode": {
    "name": "ipython",
    "version": 2
   },
   "file_extension": ".py",
   "mimetype": "text/x-python",
   "name": "python",
   "nbconvert_exporter": "python",
   "pygments_lexer": "ipython2",
   "version": "2.7.6"
  }
 },
 "nbformat": 4,
 "nbformat_minor": 0
}