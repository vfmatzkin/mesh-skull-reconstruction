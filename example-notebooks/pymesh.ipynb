{
 "cells": [
  {
   "cell_type": "markdown",
   "source": [
    " ## Boolean operations with pymesh\n",
    "First I'll generate some spheres with vedo"
   ],
   "metadata": {
    "collapsed": false
   }
  },
  {
   "cell_type": "code",
   "execution_count": null,
   "outputs": [],
   "source": [
    "import vedo\n",
    "\n",
    "s1 = vedo.Sphere(pos=[-0.7, 0, 0], r=12, c='red')\n",
    "s2 = vedo.Sphere(pos=[47, 0, 0], r=20, c='gray')  # s2 and s3 touch themselves\n",
    "s3 = vedo.Sphere(pos=[27, 0, 0], r=20, c='blue')\n",
    "\n",
    "s1.show()\n",
    "\n",
    "s1.write('/home/franco/Code/test-meshes/s1.stl')\n",
    "s2.write('/home/franco/Code/test-meshes/s2.stl')\n",
    "s3.write('/home/franco/Code/test-meshes/s3.stl')"
   ],
   "metadata": {
    "collapsed": false
   }
  },
  {
   "cell_type": "code",
   "execution_count": null,
   "outputs": [],
   "source": [
    "import pymesh\n",
    "\n",
    "mesh_A = pymesh.load_mesh('/home/franco/Code/test-meshes/s3.stl')\n",
    "mesh_B = pymesh.load_mesh('/home/franco/Code/test-meshes/s2.stl')\n",
    "output_mesh = pymesh.boolean(mesh_A, mesh_B,\n",
    "                             operation=\"difference\",\n",
    "                             engine=\"igl\")\n",
    "pymesh.save_mesh('/home/franco/Code/test-meshes/diff.stl', output_mesh)"
   ],
   "metadata": {
    "collapsed": false
   }
  }
 ],
 "metadata": {
  "kernelspec": {
   "display_name": "Python 3",
   "language": "python",
   "name": "python3"
  },
  "language_info": {
   "codemirror_mode": {
    "name": "ipython",
    "version": 2
   },
   "file_extension": ".py",
   "mimetype": "text/x-python",
   "name": "python",
   "nbconvert_exporter": "python",
   "pygments_lexer": "ipython2",
   "version": "2.7.6"
  }
 },
 "nbformat": 4,
 "nbformat_minor": 0
}
