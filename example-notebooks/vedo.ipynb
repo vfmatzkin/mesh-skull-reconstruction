{
 "cells": [
  {
   "cell_type": "code",
   "execution_count": 2,
   "metadata": {},
   "outputs": [],
   "source": [
    "import vedo\n",
    "\n",
    "# load mesh with vedo\n",
    "mesh = vedo.Mesh('/home/fmatzkin/Code/datasets/cq500/converted/selected/preprocessed_ct_to_skull/reg_CQ500-CT-12_CT Thin Plain_decimated_1perc/DeterministicAtlas__Reconstruction__skull__subject_CQ500-CT-21_CT PRE CONTRAST THIN_decimated_1perc.vtk')\n",
    "mesh.show().close()"
   ]
  },
  {
   "cell_type": "code",
   "execution_count": 53,
   "outputs": [],
   "source": [
    "points = mesh.points()"
   ],
   "metadata": {
    "collapsed": false
   }
  },
  {
   "cell_type": "code",
   "execution_count": 54,
   "outputs": [],
   "source": [
    "vedo.Mesh(points).show().close()"
   ],
   "metadata": {
    "collapsed": false
   }
  },
  {
   "cell_type": "markdown",
   "metadata": {},
   "source": [
    "## Decimate mesh"
   ]
  },
  {
   "cell_type": "code",
   "execution_count": 2,
   "metadata": {},
   "outputs": [
    {
     "ename": "NameError",
     "evalue": "name 'mesh' is not defined",
     "output_type": "error",
     "traceback": [
      "\u001B[0;31m---------------------------------------------------------------------------\u001B[0m",
      "\u001B[0;31mNameError\u001B[0m                                 Traceback (most recent call last)",
      "Input \u001B[0;32mIn [2]\u001B[0m, in \u001B[0;36m<cell line: 1>\u001B[0;34m()\u001B[0m\n\u001B[0;32m----> 1\u001B[0m mesh_dc \u001B[38;5;241m=\u001B[39m \u001B[43mmesh\u001B[49m\u001B[38;5;241m.\u001B[39mclone()\u001B[38;5;241m.\u001B[39mdecimate(\u001B[38;5;241m0.05\u001B[39m)\n\u001B[1;32m      2\u001B[0m mesh_dc\u001B[38;5;241m.\u001B[39mshow()\u001B[38;5;241m.\u001B[39mclose()\n",
      "\u001B[0;31mNameError\u001B[0m: name 'mesh' is not defined"
     ]
    }
   ],
   "source": [
    "mesh_dc = mesh.clone().decimate(0.05)\n",
    "mesh_dc.show().close()"
   ]
  },
  {
   "cell_type": "code",
   "execution_count": 24,
   "metadata": {},
   "outputs": [
    {
     "data": {
      "text/plain": [
       "(Mesh)0x7efc2b95cd00"
      ]
     },
     "execution_count": 24,
     "metadata": {},
     "output_type": "execute_result"
    }
   ],
   "source": [
    "mesh_dc.write('test-mesh-dc.stl')"
   ]
  },
  {
   "cell_type": "markdown",
   "source": [
    "## Boolean operations"
   ],
   "metadata": {
    "collapsed": false
   }
  },
  {
   "cell_type": "code",
   "execution_count": null,
   "outputs": [],
   "source": [
    "import vedo\n",
    "\n",
    "s1 = vedo.Sphere(pos=[-0.7, 0, 0], r=12)\n",
    "s2 = vedo.Sphere(pos=[47, 0, 0], r=20)\n",
    "s3 = vedo.Sphere(pos=[27, 0, 0], r=20)\n",
    "\n",
    "# b3 = vedo.mesh.merge([s3, s2])\n",
    "# b1 = b3.boolean(\"+\", s2)\n",
    "#plt.show(b1, \"intersect\", at=1, resetcam=False)\n",
    "# b3.show().close()\n",
    "\n",
    "s1.write('/home/franco/Code/test-meshes/s1.stl')\n",
    "s2.write('/home/franco/Code/test-meshes/s2.stl')\n",
    "s3.write('/home/franco/Code/test-meshes/s3.stl')"
   ],
   "metadata": {
    "collapsed": false
   }
  },
  {
   "cell_type": "code",
   "execution_count": 1,
   "outputs": [
    {
     "ename": "NameError",
     "evalue": "name 'b1' is not defined",
     "output_type": "error",
     "traceback": [
      "\u001B[0;31m---------------------------------------------------------------------------\u001B[0m",
      "\u001B[0;31mNameError\u001B[0m                                 Traceback (most recent call last)",
      "Input \u001B[0;32mIn [1]\u001B[0m, in \u001B[0;36m<cell line: 1>\u001B[0;34m()\u001B[0m\n\u001B[0;32m----> 1\u001B[0m \u001B[43mb1\u001B[49m\u001B[38;5;241m.\u001B[39mshow()\u001B[38;5;241m.\u001B[39mclose()\n",
      "\u001B[0;31mNameError\u001B[0m: name 'b1' is not defined"
     ]
    }
   ],
   "source": [
    "b1.show().close()"
   ],
   "metadata": {
    "collapsed": false
   }
  },
  {
   "cell_type": "code",
   "execution_count": 3,
   "outputs": [],
   "source": [],
   "metadata": {
    "collapsed": false
   }
  }
 ],
 "metadata": {
  "kernelspec": {
   "display_name": "Python 3.8.13 ('msr')",
   "language": "python",
   "name": "python3"
  },
  "language_info": {
   "codemirror_mode": {
    "name": "ipython",
    "version": 3
   },
   "file_extension": ".py",
   "mimetype": "text/x-python",
   "name": "python",
   "nbconvert_exporter": "python",
   "pygments_lexer": "ipython3",
   "version": "3.8.13"
  },
  "orig_nbformat": 4,
  "vscode": {
   "interpreter": {
    "hash": "159c917228f05416d9b819fe32ed20dc8363f68fb18cb83ee7ae4737bd8f0b32"
   }
  }
 },
 "nbformat": 4,
 "nbformat_minor": 2
}
